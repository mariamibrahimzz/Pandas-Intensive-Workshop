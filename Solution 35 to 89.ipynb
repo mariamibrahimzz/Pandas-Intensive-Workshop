{
 "cells": [
  {
   "cell_type": "markdown",
   "id": "db6179be-ada2-4759-bf26-c11100d44cc5",
   "metadata": {
    "panel-layout": {
     "height": 60.57500457763672,
     "visible": true,
     "width": 100
    }
   },
   "source": [
    "# Reading Data From Excel"
   ]
  },
  {
   "cell_type": "code",
   "execution_count": 242,
   "id": "4a757ff3-e3b1-4faa-b834-eb1cb6c2a914",
   "metadata": {
    "panel-layout": {
     "height": 164.40000915527344,
     "visible": true,
     "width": 100
    }
   },
   "outputs": [
    {
     "name": "stderr",
     "output_type": "stream",
     "text": [
      "<>:2: SyntaxWarning: invalid escape sequence '\\P'\n",
      "<>:2: SyntaxWarning: invalid escape sequence '\\P'\n",
      "C:\\Users\\Mariam\\AppData\\Local\\Temp\\ipykernel_4568\\194121087.py:2: SyntaxWarning: invalid escape sequence '\\P'\n",
      "  df_grades=pd.read_csv(\"C:\\Pandas\\Data\\Grades_Short.csv\")\n"
     ]
    },
    {
     "data": {
      "text/html": [
       "<div>\n",
       "<style scoped>\n",
       "    .dataframe tbody tr th:only-of-type {\n",
       "        vertical-align: middle;\n",
       "    }\n",
       "\n",
       "    .dataframe tbody tr th {\n",
       "        vertical-align: top;\n",
       "    }\n",
       "\n",
       "    .dataframe thead th {\n",
       "        text-align: right;\n",
       "    }\n",
       "</style>\n",
       "<table border=\"1\" class=\"dataframe\">\n",
       "  <thead>\n",
       "    <tr style=\"text-align: right;\">\n",
       "      <th></th>\n",
       "      <th>Name</th>\n",
       "      <th>Previous_Part</th>\n",
       "      <th>Participation1</th>\n",
       "      <th>Mini_Exam1</th>\n",
       "      <th>Mini_Exam2</th>\n",
       "      <th>Participation2</th>\n",
       "      <th>Mini_Exam3</th>\n",
       "      <th>Final</th>\n",
       "      <th>Grade</th>\n",
       "      <th>ID</th>\n",
       "    </tr>\n",
       "  </thead>\n",
       "  <tbody>\n",
       "    <tr>\n",
       "      <th>0</th>\n",
       "      <td>Jake</td>\n",
       "      <td>32.0</td>\n",
       "      <td>1</td>\n",
       "      <td>19.5</td>\n",
       "      <td>20</td>\n",
       "      <td>1</td>\n",
       "      <td>10.0</td>\n",
       "      <td>33.0</td>\n",
       "      <td>A</td>\n",
       "      <td>90743</td>\n",
       "    </tr>\n",
       "    <tr>\n",
       "      <th>1</th>\n",
       "      <td>Joe</td>\n",
       "      <td>32.0</td>\n",
       "      <td>1</td>\n",
       "      <td>20.0</td>\n",
       "      <td>16</td>\n",
       "      <td>1</td>\n",
       "      <td>14.0</td>\n",
       "      <td>32.0</td>\n",
       "      <td>A</td>\n",
       "      <td>7284</td>\n",
       "    </tr>\n",
       "    <tr>\n",
       "      <th>2</th>\n",
       "      <td>Susan</td>\n",
       "      <td>30.0</td>\n",
       "      <td>1</td>\n",
       "      <td>19.0</td>\n",
       "      <td>19</td>\n",
       "      <td>1</td>\n",
       "      <td>10.5</td>\n",
       "      <td>33.0</td>\n",
       "      <td>A-</td>\n",
       "      <td>7625</td>\n",
       "    </tr>\n",
       "    <tr>\n",
       "      <th>3</th>\n",
       "      <td>Sol</td>\n",
       "      <td>31.0</td>\n",
       "      <td>1</td>\n",
       "      <td>22.0</td>\n",
       "      <td>13</td>\n",
       "      <td>1</td>\n",
       "      <td>13.0</td>\n",
       "      <td>34.0</td>\n",
       "      <td>A</td>\n",
       "      <td>1237</td>\n",
       "    </tr>\n",
       "    <tr>\n",
       "      <th>4</th>\n",
       "      <td>Chris</td>\n",
       "      <td>30.0</td>\n",
       "      <td>1</td>\n",
       "      <td>19.0</td>\n",
       "      <td>17</td>\n",
       "      <td>1</td>\n",
       "      <td>12.5</td>\n",
       "      <td>33.5</td>\n",
       "      <td>A</td>\n",
       "      <td>62</td>\n",
       "    </tr>\n",
       "  </tbody>\n",
       "</table>\n",
       "</div>"
      ],
      "text/plain": [
       "    Name  Previous_Part  Participation1  Mini_Exam1  Mini_Exam2  \\\n",
       "0   Jake           32.0               1        19.5          20   \n",
       "1    Joe           32.0               1        20.0          16   \n",
       "2  Susan           30.0               1        19.0          19   \n",
       "3    Sol           31.0               1        22.0          13   \n",
       "4  Chris           30.0               1        19.0          17   \n",
       "\n",
       "   Participation2  Mini_Exam3  Final Grade     ID  \n",
       "0               1        10.0   33.0     A  90743  \n",
       "1               1        14.0   32.0     A   7284  \n",
       "2               1        10.5   33.0    A-   7625  \n",
       "3               1        13.0   34.0     A   1237  \n",
       "4               1        12.5   33.5     A     62  "
      ]
     },
     "execution_count": 242,
     "metadata": {},
     "output_type": "execute_result"
    }
   ],
   "source": [
    "import pandas as pd\n",
    "df_grades=pd.read_csv(\"C:\\Pandas\\Data\\Grades_Short.csv\")\n",
    "df_grades.head() # displaying the first five rows by default"
   ]
  },
  {
   "cell_type": "markdown",
   "id": "ba5327dc-9979-4c03-8cf1-480df7c261bd",
   "metadata": {
    "panel-layout": {
     "height": 44.07500076293945,
     "visible": true,
     "width": 100
    }
   },
   "source": [
    "## Basic Features"
   ]
  },
  {
   "cell_type": "markdown",
   "id": "30b4cccd-c7fa-45c7-9465-44f1222ae52e",
   "metadata": {
    "panel-layout": {
     "height": 40.95000076293945,
     "visible": true,
     "width": 100
    }
   },
   "source": [
    "##### Displaying the number of rows and columns respectively\n"
   ]
  },
  {
   "cell_type": "code",
   "execution_count": 24,
   "id": "2ffb1ec1-a622-43d2-ac4b-b7a37324e61c",
   "metadata": {
    "panel-layout": {
     "height": 27.137500762939453,
     "visible": true,
     "width": 100
    }
   },
   "outputs": [
    {
     "data": {
      "text/plain": [
       "(7, 10)"
      ]
     },
     "execution_count": 24,
     "metadata": {},
     "output_type": "execute_result"
    }
   ],
   "source": [
    "df_grades.shape"
   ]
  },
  {
   "cell_type": "markdown",
   "id": "afaf867d-7621-4251-9302-974a268226d4",
   "metadata": {
    "panel-layout": {
     "height": 40.95000076293945,
     "visible": true,
     "width": 100
    }
   },
   "source": [
    "##### Data Type of Each Column"
   ]
  },
  {
   "cell_type": "code",
   "execution_count": 31,
   "id": "03d67457-bb60-4f30-8dd2-998e00ab015e",
   "metadata": {
    "panel-layout": {
     "height": 292.3999938964844,
     "visible": true,
     "width": 100
    }
   },
   "outputs": [
    {
     "data": {
      "text/plain": [
       "Name               object\n",
       "Previous_Part     float64\n",
       "Participation1      int64\n",
       "Mini_Exam1        float64\n",
       "Mini_Exam2          int64\n",
       "Participation2      int64\n",
       "Mini_Exam3        float64\n",
       "Final             float64\n",
       "Grade              object\n",
       "ID                  int64\n",
       "dtype: object"
      ]
     },
     "execution_count": 31,
     "metadata": {},
     "output_type": "execute_result"
    }
   ],
   "source": [
    "df_grades.dtypes"
   ]
  },
  {
   "cell_type": "markdown",
   "id": "43210f3e-a913-458b-8f50-d5e267582a70",
   "metadata": {
    "panel-layout": {
     "height": 40.95000076293945,
     "visible": true,
     "width": 100
    }
   },
   "source": [
    "##### Get Columns Names"
   ]
  },
  {
   "cell_type": "code",
   "execution_count": 47,
   "id": "6843c2d7-a0a2-4982-a064-9e26d09485ac",
   "metadata": {
    "panel-layout": {
     "height": 61.412498474121094,
     "visible": true,
     "width": 100
    }
   },
   "outputs": [
    {
     "data": {
      "text/plain": [
       "Index(['Name', 'Previous_Part', 'Participation1', 'Mini_Exam1', 'Mini_Exam2',\n",
       "       'Participation2', 'Mini_Exam3', 'Final', 'Grade', 'ID'],\n",
       "      dtype='object')"
      ]
     },
     "execution_count": 47,
     "metadata": {},
     "output_type": "execute_result"
    }
   ],
   "source": [
    "df_grades.columns #display all columns names by default"
   ]
  },
  {
   "cell_type": "code",
   "execution_count": 55,
   "id": "6414c8fb-4354-4f8d-8e1c-c3e81f22c5a1",
   "metadata": {
    "panel-layout": {
     "height": 51.13750076293945,
     "visible": true,
     "width": 100
    }
   },
   "outputs": [
    {
     "data": {
      "text/plain": [
       "'Mini_Exam2'"
      ]
     },
     "execution_count": 55,
     "metadata": {},
     "output_type": "execute_result"
    }
   ],
   "source": [
    "#if u need specific column's name\n",
    "df_grades.columns[4]"
   ]
  },
  {
   "cell_type": "markdown",
   "id": "34cabeb0-560b-42d8-8315-1a680737ba70",
   "metadata": {},
   "source": [
    "##### Get Rows Indicies Range"
   ]
  },
  {
   "cell_type": "code",
   "execution_count": 71,
   "id": "b839ae80-026b-429e-b5ed-2126e3be87af",
   "metadata": {},
   "outputs": [
    {
     "data": {
      "text/plain": [
       "RangeIndex(start=0, stop=7, step=1)"
      ]
     },
     "execution_count": 71,
     "metadata": {},
     "output_type": "execute_result"
    }
   ],
   "source": [
    "df_grades.index"
   ]
  },
  {
   "cell_type": "markdown",
   "id": "f428a4d4-4777-4532-8deb-4318b2b1fd74",
   "metadata": {},
   "source": [
    "##### Calling columns"
   ]
  },
  {
   "cell_type": "code",
   "execution_count": 80,
   "id": "3f55b817-4739-4e82-bd2b-b361ba72cb7d",
   "metadata": {},
   "outputs": [
    {
     "data": {
      "text/plain": [
       "0     A\n",
       "1     A\n",
       "2    A-\n",
       "3     A\n",
       "4     A\n",
       "5     B\n",
       "6     A\n",
       "Name: Grade, dtype: object"
      ]
     },
     "execution_count": 80,
     "metadata": {},
     "output_type": "execute_result"
    }
   ],
   "source": [
    "df_grades['Grade'] #it equlas df_grades.Grade but it differs if the name of cloumn more than one word\n",
    "# A single Column"
   ]
  },
  {
   "cell_type": "code",
   "execution_count": 86,
   "id": "cc3f3ee7-a9fa-4d1c-aa08-c0292463bc5d",
   "metadata": {},
   "outputs": [
    {
     "data": {
      "text/html": [
       "<div>\n",
       "<style scoped>\n",
       "    .dataframe tbody tr th:only-of-type {\n",
       "        vertical-align: middle;\n",
       "    }\n",
       "\n",
       "    .dataframe tbody tr th {\n",
       "        vertical-align: top;\n",
       "    }\n",
       "\n",
       "    .dataframe thead th {\n",
       "        text-align: right;\n",
       "    }\n",
       "</style>\n",
       "<table border=\"1\" class=\"dataframe\">\n",
       "  <thead>\n",
       "    <tr style=\"text-align: right;\">\n",
       "      <th></th>\n",
       "      <th>Grade</th>\n",
       "      <th>Name</th>\n",
       "    </tr>\n",
       "  </thead>\n",
       "  <tbody>\n",
       "    <tr>\n",
       "      <th>0</th>\n",
       "      <td>A</td>\n",
       "      <td>Jake</td>\n",
       "    </tr>\n",
       "    <tr>\n",
       "      <th>1</th>\n",
       "      <td>A</td>\n",
       "      <td>Joe</td>\n",
       "    </tr>\n",
       "    <tr>\n",
       "      <th>2</th>\n",
       "      <td>A-</td>\n",
       "      <td>Susan</td>\n",
       "    </tr>\n",
       "    <tr>\n",
       "      <th>3</th>\n",
       "      <td>A</td>\n",
       "      <td>Sol</td>\n",
       "    </tr>\n",
       "    <tr>\n",
       "      <th>4</th>\n",
       "      <td>A</td>\n",
       "      <td>Chris</td>\n",
       "    </tr>\n",
       "    <tr>\n",
       "      <th>5</th>\n",
       "      <td>B</td>\n",
       "      <td>Tarik</td>\n",
       "    </tr>\n",
       "    <tr>\n",
       "      <th>6</th>\n",
       "      <td>A</td>\n",
       "      <td>Malik</td>\n",
       "    </tr>\n",
       "  </tbody>\n",
       "</table>\n",
       "</div>"
      ],
      "text/plain": [
       "  Grade   Name\n",
       "0     A   Jake\n",
       "1     A    Joe\n",
       "2    A-  Susan\n",
       "3     A    Sol\n",
       "4     A  Chris\n",
       "5     B  Tarik\n",
       "6     A  Malik"
      ]
     },
     "execution_count": 86,
     "metadata": {},
     "output_type": "execute_result"
    }
   ],
   "source": [
    "df_grades[['Grade','Name']]\n",
    "# Multiple Columns"
   ]
  },
  {
   "cell_type": "markdown",
   "id": "112757aa-999c-43a0-91ac-879f01eeea09",
   "metadata": {},
   "source": [
    "## Storing "
   ]
  },
  {
   "cell_type": "code",
   "execution_count": 91,
   "id": "36bb12dd-67d1-4db7-8d16-6d4737245046",
   "metadata": {},
   "outputs": [
    {
     "name": "stdout",
     "output_type": "stream",
     "text": [
      "0     Jake\n",
      "1      Joe\n",
      "2    Susan\n",
      "3      Sol\n",
      "4    Chris\n",
      "5    Tarik\n",
      "6    Malik\n",
      "Name: Name, dtype: object\n"
     ]
    }
   ],
   "source": [
    "names=df_grades['Name']\n",
    "print(names)\n",
    "# Stored"
   ]
  },
  {
   "cell_type": "markdown",
   "id": "4c4e56ec-bcf6-4c32-8934-93a95754a65a",
   "metadata": {},
   "source": [
    "## Slicing a Series"
   ]
  },
  {
   "cell_type": "markdown",
   "id": "73b11062-cd90-4306-8551-9011954abcfe",
   "metadata": {},
   "source": [
    "##### Contiguous slice"
   ]
  },
  {
   "cell_type": "code",
   "execution_count": 93,
   "id": "54e0fd33-2342-441b-96f9-7e5746063b51",
   "metadata": {},
   "outputs": [
    {
     "data": {
      "text/plain": [
       "1      Joe\n",
       "2    Susan\n",
       "Name: Name, dtype: object"
      ]
     },
     "execution_count": 93,
     "metadata": {},
     "output_type": "execute_result"
    }
   ],
   "source": [
    "names[1:3]"
   ]
  },
  {
   "cell_type": "markdown",
   "id": "5483f291-158c-4486-85ed-7fe41b42cdf2",
   "metadata": {},
   "source": [
    "##### Arbitary Slice"
   ]
  },
  {
   "cell_type": "code",
   "execution_count": 95,
   "id": "932e11e8-9044-4975-8407-047e3fa73cbd",
   "metadata": {},
   "outputs": [
    {
     "data": {
      "text/plain": [
       "0     Jake\n",
       "3      Sol\n",
       "4    Chris\n",
       "Name: Name, dtype: object"
      ]
     },
     "execution_count": 95,
     "metadata": {},
     "output_type": "execute_result"
    }
   ],
   "source": [
    "names[[0,3,4]] "
   ]
  },
  {
   "cell_type": "markdown",
   "id": "d483b1c8-49f6-4467-a079-69a1b2ac4437",
   "metadata": {},
   "source": [
    "## Slicing Data Frame"
   ]
  },
  {
   "cell_type": "code",
   "execution_count": 122,
   "id": "ff4a9584-b441-4e29-9ebb-52b4a2b010ac",
   "metadata": {},
   "outputs": [
    {
     "data": {
      "text/plain": [
       "7625"
      ]
     },
     "execution_count": 122,
     "metadata": {},
     "output_type": "execute_result"
    }
   ],
   "source": [
    "df_grades.loc[2,\"ID\"] # a specific slice"
   ]
  },
  {
   "cell_type": "code",
   "execution_count": 126,
   "id": "fe59e7b2-eeef-48ba-bff6-4ccab8865db0",
   "metadata": {},
   "outputs": [
    {
     "data": {
      "text/html": [
       "<div>\n",
       "<style scoped>\n",
       "    .dataframe tbody tr th:only-of-type {\n",
       "        vertical-align: middle;\n",
       "    }\n",
       "\n",
       "    .dataframe tbody tr th {\n",
       "        vertical-align: top;\n",
       "    }\n",
       "\n",
       "    .dataframe thead th {\n",
       "        text-align: right;\n",
       "    }\n",
       "</style>\n",
       "<table border=\"1\" class=\"dataframe\">\n",
       "  <thead>\n",
       "    <tr style=\"text-align: right;\">\n",
       "      <th></th>\n",
       "      <th>Name</th>\n",
       "      <th>Previous_Part</th>\n",
       "      <th>Participation1</th>\n",
       "      <th>Mini_Exam1</th>\n",
       "      <th>Mini_Exam2</th>\n",
       "      <th>Participation2</th>\n",
       "      <th>Mini_Exam3</th>\n",
       "      <th>Final</th>\n",
       "    </tr>\n",
       "  </thead>\n",
       "  <tbody>\n",
       "    <tr>\n",
       "      <th>2</th>\n",
       "      <td>Susan</td>\n",
       "      <td>30.0</td>\n",
       "      <td>1</td>\n",
       "      <td>19.0</td>\n",
       "      <td>19</td>\n",
       "      <td>1</td>\n",
       "      <td>10.5</td>\n",
       "      <td>33.0</td>\n",
       "    </tr>\n",
       "    <tr>\n",
       "      <th>3</th>\n",
       "      <td>Sol</td>\n",
       "      <td>31.0</td>\n",
       "      <td>1</td>\n",
       "      <td>22.0</td>\n",
       "      <td>13</td>\n",
       "      <td>1</td>\n",
       "      <td>13.0</td>\n",
       "      <td>34.0</td>\n",
       "    </tr>\n",
       "    <tr>\n",
       "      <th>4</th>\n",
       "      <td>Chris</td>\n",
       "      <td>30.0</td>\n",
       "      <td>1</td>\n",
       "      <td>19.0</td>\n",
       "      <td>17</td>\n",
       "      <td>1</td>\n",
       "      <td>12.5</td>\n",
       "      <td>33.5</td>\n",
       "    </tr>\n",
       "    <tr>\n",
       "      <th>5</th>\n",
       "      <td>Tarik</td>\n",
       "      <td>31.0</td>\n",
       "      <td>1</td>\n",
       "      <td>19.0</td>\n",
       "      <td>19</td>\n",
       "      <td>1</td>\n",
       "      <td>8.0</td>\n",
       "      <td>24.0</td>\n",
       "    </tr>\n",
       "  </tbody>\n",
       "</table>\n",
       "</div>"
      ],
      "text/plain": [
       "    Name  Previous_Part  Participation1  Mini_Exam1  Mini_Exam2  \\\n",
       "2  Susan           30.0               1        19.0          19   \n",
       "3    Sol           31.0               1        22.0          13   \n",
       "4  Chris           30.0               1        19.0          17   \n",
       "5  Tarik           31.0               1        19.0          19   \n",
       "\n",
       "   Participation2  Mini_Exam3  Final  \n",
       "2               1        10.5   33.0  \n",
       "3               1        13.0   34.0  \n",
       "4               1        12.5   33.5  \n",
       "5               1         8.0   24.0  "
      ]
     },
     "execution_count": 126,
     "metadata": {},
     "output_type": "execute_result"
    }
   ],
   "source": [
    "df_grades.loc[2:5,\"Name\":\"Final\"] #Slicing in specific range for rows and columns"
   ]
  },
  {
   "cell_type": "code",
   "execution_count": 128,
   "id": "cdff756f-ae04-49de-85b9-f1c8187829d6",
   "metadata": {},
   "outputs": [
    {
     "data": {
      "text/html": [
       "<div>\n",
       "<style scoped>\n",
       "    .dataframe tbody tr th:only-of-type {\n",
       "        vertical-align: middle;\n",
       "    }\n",
       "\n",
       "    .dataframe tbody tr th {\n",
       "        vertical-align: top;\n",
       "    }\n",
       "\n",
       "    .dataframe thead th {\n",
       "        text-align: right;\n",
       "    }\n",
       "</style>\n",
       "<table border=\"1\" class=\"dataframe\">\n",
       "  <thead>\n",
       "    <tr style=\"text-align: right;\">\n",
       "      <th></th>\n",
       "      <th>Name</th>\n",
       "      <th>Previous_Part</th>\n",
       "      <th>Participation1</th>\n",
       "      <th>Mini_Exam1</th>\n",
       "      <th>Mini_Exam2</th>\n",
       "      <th>Participation2</th>\n",
       "      <th>Mini_Exam3</th>\n",
       "      <th>Final</th>\n",
       "      <th>Grade</th>\n",
       "      <th>ID</th>\n",
       "    </tr>\n",
       "  </thead>\n",
       "  <tbody>\n",
       "    <tr>\n",
       "      <th>4</th>\n",
       "      <td>Chris</td>\n",
       "      <td>30.0</td>\n",
       "      <td>1</td>\n",
       "      <td>19.0</td>\n",
       "      <td>17</td>\n",
       "      <td>1</td>\n",
       "      <td>12.5</td>\n",
       "      <td>33.5</td>\n",
       "      <td>A</td>\n",
       "      <td>62</td>\n",
       "    </tr>\n",
       "    <tr>\n",
       "      <th>5</th>\n",
       "      <td>Tarik</td>\n",
       "      <td>31.0</td>\n",
       "      <td>1</td>\n",
       "      <td>19.0</td>\n",
       "      <td>19</td>\n",
       "      <td>1</td>\n",
       "      <td>8.0</td>\n",
       "      <td>24.0</td>\n",
       "      <td>B</td>\n",
       "      <td>87452</td>\n",
       "    </tr>\n",
       "    <tr>\n",
       "      <th>6</th>\n",
       "      <td>Malik</td>\n",
       "      <td>31.5</td>\n",
       "      <td>1</td>\n",
       "      <td>20.0</td>\n",
       "      <td>21</td>\n",
       "      <td>1</td>\n",
       "      <td>9.0</td>\n",
       "      <td>36.0</td>\n",
       "      <td>A</td>\n",
       "      <td>9374</td>\n",
       "    </tr>\n",
       "  </tbody>\n",
       "</table>\n",
       "</div>"
      ],
      "text/plain": [
       "    Name  Previous_Part  Participation1  Mini_Exam1  Mini_Exam2  \\\n",
       "4  Chris           30.0               1        19.0          17   \n",
       "5  Tarik           31.0               1        19.0          19   \n",
       "6  Malik           31.5               1        20.0          21   \n",
       "\n",
       "   Participation2  Mini_Exam3  Final Grade     ID  \n",
       "4               1        12.5   33.5     A     62  \n",
       "5               1         8.0   24.0     B  87452  \n",
       "6               1         9.0   36.0     A   9374  "
      ]
     },
     "execution_count": 128,
     "metadata": {},
     "output_type": "execute_result"
    }
   ],
   "source": [
    "df_grades.loc[4:] # Displaying from specified row and all the columns"
   ]
  },
  {
   "cell_type": "code",
   "execution_count": 130,
   "id": "e2d0b911-8d73-48f0-9eed-fb76b70f3c0c",
   "metadata": {},
   "outputs": [
    {
     "data": {
      "text/html": [
       "<div>\n",
       "<style scoped>\n",
       "    .dataframe tbody tr th:only-of-type {\n",
       "        vertical-align: middle;\n",
       "    }\n",
       "\n",
       "    .dataframe tbody tr th {\n",
       "        vertical-align: top;\n",
       "    }\n",
       "\n",
       "    .dataframe thead th {\n",
       "        text-align: right;\n",
       "    }\n",
       "</style>\n",
       "<table border=\"1\" class=\"dataframe\">\n",
       "  <thead>\n",
       "    <tr style=\"text-align: right;\">\n",
       "      <th></th>\n",
       "      <th>Participation1</th>\n",
       "      <th>Mini_Exam1</th>\n",
       "      <th>Mini_Exam2</th>\n",
       "      <th>Participation2</th>\n",
       "    </tr>\n",
       "  </thead>\n",
       "  <tbody>\n",
       "    <tr>\n",
       "      <th>3</th>\n",
       "      <td>1</td>\n",
       "      <td>22.0</td>\n",
       "      <td>13</td>\n",
       "      <td>1</td>\n",
       "    </tr>\n",
       "    <tr>\n",
       "      <th>4</th>\n",
       "      <td>1</td>\n",
       "      <td>19.0</td>\n",
       "      <td>17</td>\n",
       "      <td>1</td>\n",
       "    </tr>\n",
       "    <tr>\n",
       "      <th>5</th>\n",
       "      <td>1</td>\n",
       "      <td>19.0</td>\n",
       "      <td>19</td>\n",
       "      <td>1</td>\n",
       "    </tr>\n",
       "  </tbody>\n",
       "</table>\n",
       "</div>"
      ],
      "text/plain": [
       "   Participation1  Mini_Exam1  Mini_Exam2  Participation2\n",
       "3               1        22.0          13               1\n",
       "4               1        19.0          17               1\n",
       "5               1        19.0          19               1"
      ]
     },
     "execution_count": 130,
     "metadata": {},
     "output_type": "execute_result"
    }
   ],
   "source": [
    "df_grades.iloc[3:6,2:6] # Slicing specific rows and columns using the range of their indcies"
   ]
  },
  {
   "cell_type": "markdown",
   "id": "faac3efc-6d04-4a2d-a3a9-44721ef81a98",
   "metadata": {},
   "source": [
    "## Built In Functions"
   ]
  },
  {
   "cell_type": "code",
   "execution_count": 135,
   "id": "167aad55-4fac-48da-b178-38de42165db3",
   "metadata": {},
   "outputs": [
    {
     "data": {
      "text/plain": [
       "11.0"
      ]
     },
     "execution_count": 135,
     "metadata": {},
     "output_type": "execute_result"
    }
   ],
   "source": [
    "df_grades.Mini_Exam3.mean()"
   ]
  },
  {
   "cell_type": "code",
   "execution_count": 167,
   "id": "db4524cb-5e61-4e49-9a87-d0e9f05c278f",
   "metadata": {},
   "outputs": [
    {
     "data": {
      "text/plain": [
       "13"
      ]
     },
     "execution_count": 167,
     "metadata": {},
     "output_type": "execute_result"
    }
   ],
   "source": [
    "df_grades.Mini_Exam2.min()"
   ]
  },
  {
   "cell_type": "code",
   "execution_count": 173,
   "id": "c0cfb604-93d2-404c-98ae-1d179d9f30e1",
   "metadata": {},
   "outputs": [
    {
     "data": {
      "text/plain": [
       "36.0"
      ]
     },
     "execution_count": 173,
     "metadata": {},
     "output_type": "execute_result"
    }
   ],
   "source": [
    "df_grades.Final.max()"
   ]
  },
  {
   "cell_type": "code",
   "execution_count": 187,
   "id": "24cec1a7-be7b-4815-8321-5698112117ba",
   "metadata": {},
   "outputs": [
    {
     "data": {
      "text/plain": [
       "array([33. , 32. , 34. , 33.5, 24. , 36. ])"
      ]
     },
     "execution_count": 187,
     "metadata": {},
     "output_type": "execute_result"
    }
   ],
   "source": [
    "df_grades['Final'].unique() #Display array of the values per column ignoring any repition"
   ]
  },
  {
   "cell_type": "markdown",
   "id": "44f7cd62-c3d4-47c8-8723-a57b402658f2",
   "metadata": {},
   "source": [
    "## Attributes "
   ]
  },
  {
   "cell_type": "markdown",
   "id": "fc6937fe-8d96-4d5b-ab59-ed2a563af741",
   "metadata": {},
   "source": [
    "#### Feature that actually exist in the Data Frame they don't need void brackets at their ends"
   ]
  },
  {
   "cell_type": "code",
   "execution_count": 191,
   "id": "e69bb8b9-dfd8-4949-bba5-b5cee7b2a589",
   "metadata": {},
   "outputs": [
    {
     "data": {
      "text/plain": [
       "(7, 10)"
      ]
     },
     "execution_count": 191,
     "metadata": {},
     "output_type": "execute_result"
    }
   ],
   "source": [
    "df_grades.shape"
   ]
  },
  {
   "cell_type": "code",
   "execution_count": 199,
   "id": "b47e9d1b-4565-4d43-a196-8e1b769d9d15",
   "metadata": {},
   "outputs": [
    {
     "data": {
      "text/plain": [
       "Name               object\n",
       "Previous_Part     float64\n",
       "Participation1      int64\n",
       "Mini_Exam1        float64\n",
       "Mini_Exam2          int64\n",
       "Participation2      int64\n",
       "Mini_Exam3        float64\n",
       "Final             float64\n",
       "Grade              object\n",
       "ID                  int64\n",
       "dtype: object"
      ]
     },
     "execution_count": 199,
     "metadata": {},
     "output_type": "execute_result"
    }
   ],
   "source": [
    "df_grades.dtypes"
   ]
  },
  {
   "cell_type": "markdown",
   "id": "9c46bd3d-3f60-40e4-9c81-b6acb47b8178",
   "metadata": {},
   "source": [
    "### Methods"
   ]
  },
  {
   "cell_type": "markdown",
   "id": "5291f94a-9415-4f64-b62a-c276c344dde0",
   "metadata": {},
   "source": [
    "#### Require compututional calculations to release the output & you have to put the void brackets at their ends"
   ]
  },
  {
   "cell_type": "code",
   "execution_count": 206,
   "id": "aea7408a-672d-48a8-b89f-d336e537e203",
   "metadata": {},
   "outputs": [
    {
     "name": "stdout",
     "output_type": "stream",
     "text": [
      "<class 'pandas.core.frame.DataFrame'>\n",
      "RangeIndex: 7 entries, 0 to 6\n",
      "Data columns (total 10 columns):\n",
      " #   Column          Non-Null Count  Dtype  \n",
      "---  ------          --------------  -----  \n",
      " 0   Name            7 non-null      object \n",
      " 1   Previous_Part   7 non-null      float64\n",
      " 2   Participation1  7 non-null      int64  \n",
      " 3   Mini_Exam1      7 non-null      float64\n",
      " 4   Mini_Exam2      7 non-null      int64  \n",
      " 5   Participation2  7 non-null      int64  \n",
      " 6   Mini_Exam3      7 non-null      float64\n",
      " 7   Final           7 non-null      float64\n",
      " 8   Grade           7 non-null      object \n",
      " 9   ID              7 non-null      int64  \n",
      "dtypes: float64(4), int64(4), object(2)\n",
      "memory usage: 692.0+ bytes\n"
     ]
    }
   ],
   "source": [
    "df_grades.info()"
   ]
  },
  {
   "cell_type": "code",
   "execution_count": 208,
   "id": "d285e0e6-666f-4f0a-9bfa-a2ff99d21de1",
   "metadata": {},
   "outputs": [
    {
     "data": {
      "text/html": [
       "<div>\n",
       "<style scoped>\n",
       "    .dataframe tbody tr th:only-of-type {\n",
       "        vertical-align: middle;\n",
       "    }\n",
       "\n",
       "    .dataframe tbody tr th {\n",
       "        vertical-align: top;\n",
       "    }\n",
       "\n",
       "    .dataframe thead th {\n",
       "        text-align: right;\n",
       "    }\n",
       "</style>\n",
       "<table border=\"1\" class=\"dataframe\">\n",
       "  <thead>\n",
       "    <tr style=\"text-align: right;\">\n",
       "      <th></th>\n",
       "      <th>Previous_Part</th>\n",
       "      <th>Participation1</th>\n",
       "      <th>Mini_Exam1</th>\n",
       "      <th>Mini_Exam2</th>\n",
       "      <th>Participation2</th>\n",
       "      <th>Mini_Exam3</th>\n",
       "      <th>Final</th>\n",
       "      <th>ID</th>\n",
       "    </tr>\n",
       "  </thead>\n",
       "  <tbody>\n",
       "    <tr>\n",
       "      <th>count</th>\n",
       "      <td>7.000000</td>\n",
       "      <td>7.0</td>\n",
       "      <td>7.000000</td>\n",
       "      <td>7.000000</td>\n",
       "      <td>7.0</td>\n",
       "      <td>7.000000</td>\n",
       "      <td>7.000000</td>\n",
       "      <td>7.00000</td>\n",
       "    </tr>\n",
       "    <tr>\n",
       "      <th>mean</th>\n",
       "      <td>31.071429</td>\n",
       "      <td>1.0</td>\n",
       "      <td>19.785714</td>\n",
       "      <td>17.857143</td>\n",
       "      <td>1.0</td>\n",
       "      <td>11.000000</td>\n",
       "      <td>32.214286</td>\n",
       "      <td>29111.00000</td>\n",
       "    </tr>\n",
       "    <tr>\n",
       "      <th>std</th>\n",
       "      <td>0.838082</td>\n",
       "      <td>0.0</td>\n",
       "      <td>1.074598</td>\n",
       "      <td>2.734262</td>\n",
       "      <td>0.0</td>\n",
       "      <td>2.217356</td>\n",
       "      <td>3.828154</td>\n",
       "      <td>41131.08167</td>\n",
       "    </tr>\n",
       "    <tr>\n",
       "      <th>min</th>\n",
       "      <td>30.000000</td>\n",
       "      <td>1.0</td>\n",
       "      <td>19.000000</td>\n",
       "      <td>13.000000</td>\n",
       "      <td>1.0</td>\n",
       "      <td>8.000000</td>\n",
       "      <td>24.000000</td>\n",
       "      <td>62.00000</td>\n",
       "    </tr>\n",
       "    <tr>\n",
       "      <th>25%</th>\n",
       "      <td>30.500000</td>\n",
       "      <td>1.0</td>\n",
       "      <td>19.000000</td>\n",
       "      <td>16.500000</td>\n",
       "      <td>1.0</td>\n",
       "      <td>9.500000</td>\n",
       "      <td>32.500000</td>\n",
       "      <td>4260.50000</td>\n",
       "    </tr>\n",
       "    <tr>\n",
       "      <th>50%</th>\n",
       "      <td>31.000000</td>\n",
       "      <td>1.0</td>\n",
       "      <td>19.500000</td>\n",
       "      <td>19.000000</td>\n",
       "      <td>1.0</td>\n",
       "      <td>10.500000</td>\n",
       "      <td>33.000000</td>\n",
       "      <td>7625.00000</td>\n",
       "    </tr>\n",
       "    <tr>\n",
       "      <th>75%</th>\n",
       "      <td>31.750000</td>\n",
       "      <td>1.0</td>\n",
       "      <td>20.000000</td>\n",
       "      <td>19.500000</td>\n",
       "      <td>1.0</td>\n",
       "      <td>12.750000</td>\n",
       "      <td>33.750000</td>\n",
       "      <td>48413.00000</td>\n",
       "    </tr>\n",
       "    <tr>\n",
       "      <th>max</th>\n",
       "      <td>32.000000</td>\n",
       "      <td>1.0</td>\n",
       "      <td>22.000000</td>\n",
       "      <td>21.000000</td>\n",
       "      <td>1.0</td>\n",
       "      <td>14.000000</td>\n",
       "      <td>36.000000</td>\n",
       "      <td>90743.00000</td>\n",
       "    </tr>\n",
       "  </tbody>\n",
       "</table>\n",
       "</div>"
      ],
      "text/plain": [
       "       Previous_Part  Participation1  Mini_Exam1  Mini_Exam2  Participation2  \\\n",
       "count       7.000000             7.0    7.000000    7.000000             7.0   \n",
       "mean       31.071429             1.0   19.785714   17.857143             1.0   \n",
       "std         0.838082             0.0    1.074598    2.734262             0.0   \n",
       "min        30.000000             1.0   19.000000   13.000000             1.0   \n",
       "25%        30.500000             1.0   19.000000   16.500000             1.0   \n",
       "50%        31.000000             1.0   19.500000   19.000000             1.0   \n",
       "75%        31.750000             1.0   20.000000   19.500000             1.0   \n",
       "max        32.000000             1.0   22.000000   21.000000             1.0   \n",
       "\n",
       "       Mini_Exam3      Final           ID  \n",
       "count    7.000000   7.000000      7.00000  \n",
       "mean    11.000000  32.214286  29111.00000  \n",
       "std      2.217356   3.828154  41131.08167  \n",
       "min      8.000000  24.000000     62.00000  \n",
       "25%      9.500000  32.500000   4260.50000  \n",
       "50%     10.500000  33.000000   7625.00000  \n",
       "75%     12.750000  33.750000  48413.00000  \n",
       "max     14.000000  36.000000  90743.00000  "
      ]
     },
     "execution_count": 208,
     "metadata": {},
     "output_type": "execute_result"
    }
   ],
   "source": [
    "df_grades.describe()"
   ]
  },
  {
   "cell_type": "markdown",
   "id": "1b737eef-cb49-4210-9d0f-79a53633b6c4",
   "metadata": {},
   "source": [
    "## Creating New Columns"
   ]
  },
  {
   "cell_type": "code",
   "execution_count": 214,
   "id": "750d3dcf-6ec5-4db1-bcf9-28285f61d3c1",
   "metadata": {},
   "outputs": [
    {
     "data": {
      "text/html": [
       "<div>\n",
       "<style scoped>\n",
       "    .dataframe tbody tr th:only-of-type {\n",
       "        vertical-align: middle;\n",
       "    }\n",
       "\n",
       "    .dataframe tbody tr th {\n",
       "        vertical-align: top;\n",
       "    }\n",
       "\n",
       "    .dataframe thead th {\n",
       "        text-align: right;\n",
       "    }\n",
       "</style>\n",
       "<table border=\"1\" class=\"dataframe\">\n",
       "  <thead>\n",
       "    <tr style=\"text-align: right;\">\n",
       "      <th></th>\n",
       "      <th>Name</th>\n",
       "      <th>Previous_Part</th>\n",
       "      <th>Participation1</th>\n",
       "      <th>Mini_Exam1</th>\n",
       "      <th>Mini_Exam2</th>\n",
       "      <th>Participation2</th>\n",
       "      <th>Mini_Exam3</th>\n",
       "      <th>Final</th>\n",
       "      <th>Grade</th>\n",
       "      <th>ID</th>\n",
       "      <th>Final percentage</th>\n",
       "    </tr>\n",
       "  </thead>\n",
       "  <tbody>\n",
       "    <tr>\n",
       "      <th>0</th>\n",
       "      <td>Jake</td>\n",
       "      <td>32.0</td>\n",
       "      <td>1</td>\n",
       "      <td>19.5</td>\n",
       "      <td>20</td>\n",
       "      <td>1</td>\n",
       "      <td>10.0</td>\n",
       "      <td>33.0</td>\n",
       "      <td>A</td>\n",
       "      <td>90743</td>\n",
       "      <td>91.666667</td>\n",
       "    </tr>\n",
       "    <tr>\n",
       "      <th>1</th>\n",
       "      <td>Joe</td>\n",
       "      <td>32.0</td>\n",
       "      <td>1</td>\n",
       "      <td>20.0</td>\n",
       "      <td>16</td>\n",
       "      <td>1</td>\n",
       "      <td>14.0</td>\n",
       "      <td>32.0</td>\n",
       "      <td>A</td>\n",
       "      <td>7284</td>\n",
       "      <td>88.888889</td>\n",
       "    </tr>\n",
       "    <tr>\n",
       "      <th>2</th>\n",
       "      <td>Susan</td>\n",
       "      <td>30.0</td>\n",
       "      <td>1</td>\n",
       "      <td>19.0</td>\n",
       "      <td>19</td>\n",
       "      <td>1</td>\n",
       "      <td>10.5</td>\n",
       "      <td>33.0</td>\n",
       "      <td>A-</td>\n",
       "      <td>7625</td>\n",
       "      <td>91.666667</td>\n",
       "    </tr>\n",
       "    <tr>\n",
       "      <th>3</th>\n",
       "      <td>Sol</td>\n",
       "      <td>31.0</td>\n",
       "      <td>1</td>\n",
       "      <td>22.0</td>\n",
       "      <td>13</td>\n",
       "      <td>1</td>\n",
       "      <td>13.0</td>\n",
       "      <td>34.0</td>\n",
       "      <td>A</td>\n",
       "      <td>1237</td>\n",
       "      <td>94.444444</td>\n",
       "    </tr>\n",
       "    <tr>\n",
       "      <th>4</th>\n",
       "      <td>Chris</td>\n",
       "      <td>30.0</td>\n",
       "      <td>1</td>\n",
       "      <td>19.0</td>\n",
       "      <td>17</td>\n",
       "      <td>1</td>\n",
       "      <td>12.5</td>\n",
       "      <td>33.5</td>\n",
       "      <td>A</td>\n",
       "      <td>62</td>\n",
       "      <td>93.055556</td>\n",
       "    </tr>\n",
       "  </tbody>\n",
       "</table>\n",
       "</div>"
      ],
      "text/plain": [
       "    Name  Previous_Part  Participation1  Mini_Exam1  Mini_Exam2  \\\n",
       "0   Jake           32.0               1        19.5          20   \n",
       "1    Joe           32.0               1        20.0          16   \n",
       "2  Susan           30.0               1        19.0          19   \n",
       "3    Sol           31.0               1        22.0          13   \n",
       "4  Chris           30.0               1        19.0          17   \n",
       "\n",
       "   Participation2  Mini_Exam3  Final Grade     ID  Final percentage  \n",
       "0               1        10.0   33.0     A  90743         91.666667  \n",
       "1               1        14.0   32.0     A   7284         88.888889  \n",
       "2               1        10.5   33.0    A-   7625         91.666667  \n",
       "3               1        13.0   34.0     A   1237         94.444444  \n",
       "4               1        12.5   33.5     A     62         93.055556  "
      ]
     },
     "execution_count": 214,
     "metadata": {},
     "output_type": "execute_result"
    }
   ],
   "source": [
    "df_grades[\"Final percentage\"]=(df_grades['Final']/36) *100\n",
    "df_grades.head()"
   ]
  },
  {
   "cell_type": "code",
   "execution_count": 218,
   "id": "32517335-c8cf-4de9-a7ce-7cb550d8814a",
   "metadata": {},
   "outputs": [
    {
     "data": {
      "text/html": [
       "<div>\n",
       "<style scoped>\n",
       "    .dataframe tbody tr th:only-of-type {\n",
       "        vertical-align: middle;\n",
       "    }\n",
       "\n",
       "    .dataframe tbody tr th {\n",
       "        vertical-align: top;\n",
       "    }\n",
       "\n",
       "    .dataframe thead th {\n",
       "        text-align: right;\n",
       "    }\n",
       "</style>\n",
       "<table border=\"1\" class=\"dataframe\">\n",
       "  <thead>\n",
       "    <tr style=\"text-align: right;\">\n",
       "      <th></th>\n",
       "      <th>Name</th>\n",
       "      <th>Previous_Part</th>\n",
       "      <th>Participation1</th>\n",
       "      <th>Mini_Exam1</th>\n",
       "      <th>Mini_Exam2</th>\n",
       "      <th>Participation2</th>\n",
       "      <th>Mini_Exam3</th>\n",
       "      <th>Final</th>\n",
       "      <th>Grade</th>\n",
       "      <th>ID</th>\n",
       "      <th>Final percentage</th>\n",
       "      <th>avg of mini exams</th>\n",
       "    </tr>\n",
       "  </thead>\n",
       "  <tbody>\n",
       "    <tr>\n",
       "      <th>0</th>\n",
       "      <td>Jake</td>\n",
       "      <td>32.0</td>\n",
       "      <td>1</td>\n",
       "      <td>19.5</td>\n",
       "      <td>20</td>\n",
       "      <td>1</td>\n",
       "      <td>10.0</td>\n",
       "      <td>33.0</td>\n",
       "      <td>A</td>\n",
       "      <td>90743</td>\n",
       "      <td>91.666667</td>\n",
       "      <td>16.500000</td>\n",
       "    </tr>\n",
       "    <tr>\n",
       "      <th>1</th>\n",
       "      <td>Joe</td>\n",
       "      <td>32.0</td>\n",
       "      <td>1</td>\n",
       "      <td>20.0</td>\n",
       "      <td>16</td>\n",
       "      <td>1</td>\n",
       "      <td>14.0</td>\n",
       "      <td>32.0</td>\n",
       "      <td>A</td>\n",
       "      <td>7284</td>\n",
       "      <td>88.888889</td>\n",
       "      <td>16.666667</td>\n",
       "    </tr>\n",
       "    <tr>\n",
       "      <th>2</th>\n",
       "      <td>Susan</td>\n",
       "      <td>30.0</td>\n",
       "      <td>1</td>\n",
       "      <td>19.0</td>\n",
       "      <td>19</td>\n",
       "      <td>1</td>\n",
       "      <td>10.5</td>\n",
       "      <td>33.0</td>\n",
       "      <td>A-</td>\n",
       "      <td>7625</td>\n",
       "      <td>91.666667</td>\n",
       "      <td>16.166667</td>\n",
       "    </tr>\n",
       "    <tr>\n",
       "      <th>3</th>\n",
       "      <td>Sol</td>\n",
       "      <td>31.0</td>\n",
       "      <td>1</td>\n",
       "      <td>22.0</td>\n",
       "      <td>13</td>\n",
       "      <td>1</td>\n",
       "      <td>13.0</td>\n",
       "      <td>34.0</td>\n",
       "      <td>A</td>\n",
       "      <td>1237</td>\n",
       "      <td>94.444444</td>\n",
       "      <td>16.000000</td>\n",
       "    </tr>\n",
       "    <tr>\n",
       "      <th>4</th>\n",
       "      <td>Chris</td>\n",
       "      <td>30.0</td>\n",
       "      <td>1</td>\n",
       "      <td>19.0</td>\n",
       "      <td>17</td>\n",
       "      <td>1</td>\n",
       "      <td>12.5</td>\n",
       "      <td>33.5</td>\n",
       "      <td>A</td>\n",
       "      <td>62</td>\n",
       "      <td>93.055556</td>\n",
       "      <td>16.166667</td>\n",
       "    </tr>\n",
       "  </tbody>\n",
       "</table>\n",
       "</div>"
      ],
      "text/plain": [
       "    Name  Previous_Part  Participation1  Mini_Exam1  Mini_Exam2  \\\n",
       "0   Jake           32.0               1        19.5          20   \n",
       "1    Joe           32.0               1        20.0          16   \n",
       "2  Susan           30.0               1        19.0          19   \n",
       "3    Sol           31.0               1        22.0          13   \n",
       "4  Chris           30.0               1        19.0          17   \n",
       "\n",
       "   Participation2  Mini_Exam3  Final Grade     ID  Final percentage  \\\n",
       "0               1        10.0   33.0     A  90743         91.666667   \n",
       "1               1        14.0   32.0     A   7284         88.888889   \n",
       "2               1        10.5   33.0    A-   7625         91.666667   \n",
       "3               1        13.0   34.0     A   1237         94.444444   \n",
       "4               1        12.5   33.5     A     62         93.055556   \n",
       "\n",
       "   avg of mini exams  \n",
       "0          16.500000  \n",
       "1          16.666667  \n",
       "2          16.166667  \n",
       "3          16.000000  \n",
       "4          16.166667  "
      ]
     },
     "execution_count": 218,
     "metadata": {},
     "output_type": "execute_result"
    }
   ],
   "source": [
    "df_grades[\"avg of mini exams\"]=(df_grades[\"Mini_Exam1\"]+df_grades[\"Mini_Exam2\"]+df_grades[\"Mini_Exam3\"])/3\n",
    "df_grades.head()"
   ]
  },
  {
   "cell_type": "markdown",
   "id": "93be61ba-ce34-4f0b-9f93-48a41c025f08",
   "metadata": {},
   "source": [
    "## Deleting Columns"
   ]
  },
  {
   "cell_type": "markdown",
   "id": "62b7a3bf-9cc2-4f39-aafa-bcfe739c47b6",
   "metadata": {},
   "source": [
    "##### Deleting Single Column"
   ]
  },
  {
   "cell_type": "code",
   "execution_count": 224,
   "id": "89ed61e4-a978-4bcf-88d4-26cd17da9ba9",
   "metadata": {},
   "outputs": [
    {
     "data": {
      "text/html": [
       "<div>\n",
       "<style scoped>\n",
       "    .dataframe tbody tr th:only-of-type {\n",
       "        vertical-align: middle;\n",
       "    }\n",
       "\n",
       "    .dataframe tbody tr th {\n",
       "        vertical-align: top;\n",
       "    }\n",
       "\n",
       "    .dataframe thead th {\n",
       "        text-align: right;\n",
       "    }\n",
       "</style>\n",
       "<table border=\"1\" class=\"dataframe\">\n",
       "  <thead>\n",
       "    <tr style=\"text-align: right;\">\n",
       "      <th></th>\n",
       "      <th>Name</th>\n",
       "      <th>Previous_Part</th>\n",
       "      <th>Participation1</th>\n",
       "      <th>Mini_Exam1</th>\n",
       "      <th>Mini_Exam2</th>\n",
       "      <th>Participation2</th>\n",
       "      <th>Mini_Exam3</th>\n",
       "      <th>Final</th>\n",
       "      <th>Grade</th>\n",
       "      <th>ID</th>\n",
       "      <th>avg of mini exams</th>\n",
       "    </tr>\n",
       "  </thead>\n",
       "  <tbody>\n",
       "    <tr>\n",
       "      <th>0</th>\n",
       "      <td>Jake</td>\n",
       "      <td>32.0</td>\n",
       "      <td>1</td>\n",
       "      <td>19.5</td>\n",
       "      <td>20</td>\n",
       "      <td>1</td>\n",
       "      <td>10.0</td>\n",
       "      <td>33.0</td>\n",
       "      <td>A</td>\n",
       "      <td>90743</td>\n",
       "      <td>16.500000</td>\n",
       "    </tr>\n",
       "    <tr>\n",
       "      <th>1</th>\n",
       "      <td>Joe</td>\n",
       "      <td>32.0</td>\n",
       "      <td>1</td>\n",
       "      <td>20.0</td>\n",
       "      <td>16</td>\n",
       "      <td>1</td>\n",
       "      <td>14.0</td>\n",
       "      <td>32.0</td>\n",
       "      <td>A</td>\n",
       "      <td>7284</td>\n",
       "      <td>16.666667</td>\n",
       "    </tr>\n",
       "    <tr>\n",
       "      <th>2</th>\n",
       "      <td>Susan</td>\n",
       "      <td>30.0</td>\n",
       "      <td>1</td>\n",
       "      <td>19.0</td>\n",
       "      <td>19</td>\n",
       "      <td>1</td>\n",
       "      <td>10.5</td>\n",
       "      <td>33.0</td>\n",
       "      <td>A-</td>\n",
       "      <td>7625</td>\n",
       "      <td>16.166667</td>\n",
       "    </tr>\n",
       "    <tr>\n",
       "      <th>3</th>\n",
       "      <td>Sol</td>\n",
       "      <td>31.0</td>\n",
       "      <td>1</td>\n",
       "      <td>22.0</td>\n",
       "      <td>13</td>\n",
       "      <td>1</td>\n",
       "      <td>13.0</td>\n",
       "      <td>34.0</td>\n",
       "      <td>A</td>\n",
       "      <td>1237</td>\n",
       "      <td>16.000000</td>\n",
       "    </tr>\n",
       "    <tr>\n",
       "      <th>4</th>\n",
       "      <td>Chris</td>\n",
       "      <td>30.0</td>\n",
       "      <td>1</td>\n",
       "      <td>19.0</td>\n",
       "      <td>17</td>\n",
       "      <td>1</td>\n",
       "      <td>12.5</td>\n",
       "      <td>33.5</td>\n",
       "      <td>A</td>\n",
       "      <td>62</td>\n",
       "      <td>16.166667</td>\n",
       "    </tr>\n",
       "  </tbody>\n",
       "</table>\n",
       "</div>"
      ],
      "text/plain": [
       "    Name  Previous_Part  Participation1  Mini_Exam1  Mini_Exam2  \\\n",
       "0   Jake           32.0               1        19.5          20   \n",
       "1    Joe           32.0               1        20.0          16   \n",
       "2  Susan           30.0               1        19.0          19   \n",
       "3    Sol           31.0               1        22.0          13   \n",
       "4  Chris           30.0               1        19.0          17   \n",
       "\n",
       "   Participation2  Mini_Exam3  Final Grade     ID  avg of mini exams  \n",
       "0               1        10.0   33.0     A  90743          16.500000  \n",
       "1               1        14.0   32.0     A   7284          16.666667  \n",
       "2               1        10.5   33.0    A-   7625          16.166667  \n",
       "3               1        13.0   34.0     A   1237          16.000000  \n",
       "4               1        12.5   33.5     A     62          16.166667  "
      ]
     },
     "execution_count": 224,
     "metadata": {},
     "output_type": "execute_result"
    }
   ],
   "source": [
    "del df_grades['Final percentage']\n",
    "df_grades.head()"
   ]
  },
  {
   "cell_type": "markdown",
   "id": "7d141ece-5f43-4d06-a0f8-e6c388bb9d43",
   "metadata": {},
   "source": [
    "##### Deleting Multiple Columns"
   ]
  },
  {
   "cell_type": "code",
   "execution_count": 233,
   "id": "f95cf860-609e-4cef-ba6c-2731730ea110",
   "metadata": {},
   "outputs": [
    {
     "data": {
      "text/html": [
       "<div>\n",
       "<style scoped>\n",
       "    .dataframe tbody tr th:only-of-type {\n",
       "        vertical-align: middle;\n",
       "    }\n",
       "\n",
       "    .dataframe tbody tr th {\n",
       "        vertical-align: top;\n",
       "    }\n",
       "\n",
       "    .dataframe thead th {\n",
       "        text-align: right;\n",
       "    }\n",
       "</style>\n",
       "<table border=\"1\" class=\"dataframe\">\n",
       "  <thead>\n",
       "    <tr style=\"text-align: right;\">\n",
       "      <th></th>\n",
       "      <th>Name</th>\n",
       "      <th>Previous_Part</th>\n",
       "      <th>Mini_Exam1</th>\n",
       "      <th>Mini_Exam2</th>\n",
       "      <th>Mini_Exam3</th>\n",
       "      <th>Final</th>\n",
       "      <th>Grade</th>\n",
       "      <th>ID</th>\n",
       "      <th>avg of mini exams</th>\n",
       "    </tr>\n",
       "  </thead>\n",
       "  <tbody>\n",
       "    <tr>\n",
       "      <th>0</th>\n",
       "      <td>Jake</td>\n",
       "      <td>32.0</td>\n",
       "      <td>19.5</td>\n",
       "      <td>20</td>\n",
       "      <td>10.0</td>\n",
       "      <td>33.0</td>\n",
       "      <td>A</td>\n",
       "      <td>90743</td>\n",
       "      <td>16.500000</td>\n",
       "    </tr>\n",
       "    <tr>\n",
       "      <th>1</th>\n",
       "      <td>Joe</td>\n",
       "      <td>32.0</td>\n",
       "      <td>20.0</td>\n",
       "      <td>16</td>\n",
       "      <td>14.0</td>\n",
       "      <td>32.0</td>\n",
       "      <td>A</td>\n",
       "      <td>7284</td>\n",
       "      <td>16.666667</td>\n",
       "    </tr>\n",
       "    <tr>\n",
       "      <th>2</th>\n",
       "      <td>Susan</td>\n",
       "      <td>30.0</td>\n",
       "      <td>19.0</td>\n",
       "      <td>19</td>\n",
       "      <td>10.5</td>\n",
       "      <td>33.0</td>\n",
       "      <td>A-</td>\n",
       "      <td>7625</td>\n",
       "      <td>16.166667</td>\n",
       "    </tr>\n",
       "    <tr>\n",
       "      <th>3</th>\n",
       "      <td>Sol</td>\n",
       "      <td>31.0</td>\n",
       "      <td>22.0</td>\n",
       "      <td>13</td>\n",
       "      <td>13.0</td>\n",
       "      <td>34.0</td>\n",
       "      <td>A</td>\n",
       "      <td>1237</td>\n",
       "      <td>16.000000</td>\n",
       "    </tr>\n",
       "    <tr>\n",
       "      <th>4</th>\n",
       "      <td>Chris</td>\n",
       "      <td>30.0</td>\n",
       "      <td>19.0</td>\n",
       "      <td>17</td>\n",
       "      <td>12.5</td>\n",
       "      <td>33.5</td>\n",
       "      <td>A</td>\n",
       "      <td>62</td>\n",
       "      <td>16.166667</td>\n",
       "    </tr>\n",
       "  </tbody>\n",
       "</table>\n",
       "</div>"
      ],
      "text/plain": [
       "    Name  Previous_Part  Mini_Exam1  Mini_Exam2  Mini_Exam3  Final Grade  \\\n",
       "0   Jake           32.0        19.5          20        10.0   33.0     A   \n",
       "1    Joe           32.0        20.0          16        14.0   32.0     A   \n",
       "2  Susan           30.0        19.0          19        10.5   33.0    A-   \n",
       "3    Sol           31.0        22.0          13        13.0   34.0     A   \n",
       "4  Chris           30.0        19.0          17        12.5   33.5     A   \n",
       "\n",
       "      ID  avg of mini exams  \n",
       "0  90743          16.500000  \n",
       "1   7284          16.666667  \n",
       "2   7625          16.166667  \n",
       "3   1237          16.000000  \n",
       "4     62          16.166667  "
      ]
     },
     "execution_count": 233,
     "metadata": {},
     "output_type": "execute_result"
    }
   ],
   "source": [
    "df_grades.drop(['Participation1','Participation2'],axis=1,inplace=True) # droping column of participation 1 & 2\n",
    "df_grades.head()"
   ]
  },
  {
   "cell_type": "code",
   "execution_count": 235,
   "id": "66e93276-4b15-4b6c-87e0-f6292a595eea",
   "metadata": {},
   "outputs": [
    {
     "data": {
      "text/html": [
       "<div>\n",
       "<style scoped>\n",
       "    .dataframe tbody tr th:only-of-type {\n",
       "        vertical-align: middle;\n",
       "    }\n",
       "\n",
       "    .dataframe tbody tr th {\n",
       "        vertical-align: top;\n",
       "    }\n",
       "\n",
       "    .dataframe thead th {\n",
       "        text-align: right;\n",
       "    }\n",
       "</style>\n",
       "<table border=\"1\" class=\"dataframe\">\n",
       "  <thead>\n",
       "    <tr style=\"text-align: right;\">\n",
       "      <th></th>\n",
       "      <th>Name</th>\n",
       "      <th>Previous_Part</th>\n",
       "      <th>Mini_Exam1</th>\n",
       "      <th>Mini_Exam2</th>\n",
       "      <th>Mini_Exam3</th>\n",
       "      <th>Final</th>\n",
       "      <th>Grade</th>\n",
       "      <th>ID</th>\n",
       "      <th>avg of mini exams</th>\n",
       "    </tr>\n",
       "  </thead>\n",
       "  <tbody>\n",
       "    <tr>\n",
       "      <th>2</th>\n",
       "      <td>Susan</td>\n",
       "      <td>30.0</td>\n",
       "      <td>19.0</td>\n",
       "      <td>19</td>\n",
       "      <td>10.5</td>\n",
       "      <td>33.0</td>\n",
       "      <td>A-</td>\n",
       "      <td>7625</td>\n",
       "      <td>16.166667</td>\n",
       "    </tr>\n",
       "    <tr>\n",
       "      <th>3</th>\n",
       "      <td>Sol</td>\n",
       "      <td>31.0</td>\n",
       "      <td>22.0</td>\n",
       "      <td>13</td>\n",
       "      <td>13.0</td>\n",
       "      <td>34.0</td>\n",
       "      <td>A</td>\n",
       "      <td>1237</td>\n",
       "      <td>16.000000</td>\n",
       "    </tr>\n",
       "    <tr>\n",
       "      <th>4</th>\n",
       "      <td>Chris</td>\n",
       "      <td>30.0</td>\n",
       "      <td>19.0</td>\n",
       "      <td>17</td>\n",
       "      <td>12.5</td>\n",
       "      <td>33.5</td>\n",
       "      <td>A</td>\n",
       "      <td>62</td>\n",
       "      <td>16.166667</td>\n",
       "    </tr>\n",
       "    <tr>\n",
       "      <th>5</th>\n",
       "      <td>Tarik</td>\n",
       "      <td>31.0</td>\n",
       "      <td>19.0</td>\n",
       "      <td>19</td>\n",
       "      <td>8.0</td>\n",
       "      <td>24.0</td>\n",
       "      <td>B</td>\n",
       "      <td>87452</td>\n",
       "      <td>15.333333</td>\n",
       "    </tr>\n",
       "    <tr>\n",
       "      <th>6</th>\n",
       "      <td>Malik</td>\n",
       "      <td>31.5</td>\n",
       "      <td>20.0</td>\n",
       "      <td>21</td>\n",
       "      <td>9.0</td>\n",
       "      <td>36.0</td>\n",
       "      <td>A</td>\n",
       "      <td>9374</td>\n",
       "      <td>16.666667</td>\n",
       "    </tr>\n",
       "  </tbody>\n",
       "</table>\n",
       "</div>"
      ],
      "text/plain": [
       "    Name  Previous_Part  Mini_Exam1  Mini_Exam2  Mini_Exam3  Final Grade  \\\n",
       "2  Susan           30.0        19.0          19        10.5   33.0    A-   \n",
       "3    Sol           31.0        22.0          13        13.0   34.0     A   \n",
       "4  Chris           30.0        19.0          17        12.5   33.5     A   \n",
       "5  Tarik           31.0        19.0          19         8.0   24.0     B   \n",
       "6  Malik           31.5        20.0          21         9.0   36.0     A   \n",
       "\n",
       "      ID  avg of mini exams  \n",
       "2   7625          16.166667  \n",
       "3   1237          16.000000  \n",
       "4     62          16.166667  \n",
       "5  87452          15.333333  \n",
       "6   9374          16.666667  "
      ]
     },
     "execution_count": 235,
     "metadata": {},
     "output_type": "execute_result"
    }
   ],
   "source": [
    "df_grades.drop([0,1],axis=0,inplace=True) # dropping rows of index 0,1\n",
    "df_grades.head()"
   ]
  },
  {
   "cell_type": "markdown",
   "id": "b613119e-7fb3-4dac-89cb-ca1b4f01a4af",
   "metadata": {},
   "source": [
    "# Missing Data Calling"
   ]
  },
  {
   "cell_type": "markdown",
   "id": "90787300-dd1d-46c7-968c-0d4fe3c18e04",
   "metadata": {},
   "source": [
    "##### Replacing missing values Manually"
   ]
  },
  {
   "cell_type": "code",
   "execution_count": 309,
   "id": "328e5abf-0fae-418e-9cab-e4dc378eaa8a",
   "metadata": {},
   "outputs": [
    {
     "name": "stderr",
     "output_type": "stream",
     "text": [
      "<>:2: SyntaxWarning: invalid escape sequence '\\P'\n",
      "<>:2: SyntaxWarning: invalid escape sequence '\\P'\n",
      "C:\\Users\\Mariam\\AppData\\Local\\Temp\\ipykernel_4568\\1276695693.py:2: SyntaxWarning: invalid escape sequence '\\P'\n",
      "  df_missing=pd.read_csv(\"C:\\Pandas\\Data\\Missing_Data.csv\",na_values={\"Mini_Exam2\":\"not available\",\"Participation1\":-1})\n"
     ]
    },
    {
     "data": {
      "text/html": [
       "<div>\n",
       "<style scoped>\n",
       "    .dataframe tbody tr th:only-of-type {\n",
       "        vertical-align: middle;\n",
       "    }\n",
       "\n",
       "    .dataframe tbody tr th {\n",
       "        vertical-align: top;\n",
       "    }\n",
       "\n",
       "    .dataframe thead th {\n",
       "        text-align: right;\n",
       "    }\n",
       "</style>\n",
       "<table border=\"1\" class=\"dataframe\">\n",
       "  <thead>\n",
       "    <tr style=\"text-align: right;\">\n",
       "      <th></th>\n",
       "      <th>Name</th>\n",
       "      <th>Previous_Part</th>\n",
       "      <th>Participation1</th>\n",
       "      <th>Mini_Exam1</th>\n",
       "      <th>Mini_Exam2</th>\n",
       "      <th>Participation2</th>\n",
       "      <th>Mini_Exam3</th>\n",
       "      <th>Final</th>\n",
       "      <th>Grade</th>\n",
       "      <th>Temp</th>\n",
       "    </tr>\n",
       "  </thead>\n",
       "  <tbody>\n",
       "    <tr>\n",
       "      <th>0</th>\n",
       "      <td>Jake</td>\n",
       "      <td>32.0</td>\n",
       "      <td>1.0</td>\n",
       "      <td>19.5</td>\n",
       "      <td>20.0</td>\n",
       "      <td>1</td>\n",
       "      <td>10.0</td>\n",
       "      <td>33.0</td>\n",
       "      <td>A</td>\n",
       "      <td>-1</td>\n",
       "    </tr>\n",
       "    <tr>\n",
       "      <th>1</th>\n",
       "      <td>Joe</td>\n",
       "      <td>NaN</td>\n",
       "      <td>1.0</td>\n",
       "      <td>20.0</td>\n",
       "      <td>16.0</td>\n",
       "      <td>1</td>\n",
       "      <td>14.0</td>\n",
       "      <td>32.0</td>\n",
       "      <td>A</td>\n",
       "      <td>23</td>\n",
       "    </tr>\n",
       "    <tr>\n",
       "      <th>2</th>\n",
       "      <td>Sol</td>\n",
       "      <td>31.0</td>\n",
       "      <td>1.0</td>\n",
       "      <td>22.0</td>\n",
       "      <td>13.0</td>\n",
       "      <td>1</td>\n",
       "      <td>13.0</td>\n",
       "      <td>34.0</td>\n",
       "      <td>A</td>\n",
       "      <td>34</td>\n",
       "    </tr>\n",
       "    <tr>\n",
       "      <th>3</th>\n",
       "      <td>Chris</td>\n",
       "      <td>30.0</td>\n",
       "      <td>NaN</td>\n",
       "      <td>19.0</td>\n",
       "      <td>NaN</td>\n",
       "      <td>1</td>\n",
       "      <td>12.5</td>\n",
       "      <td>33.5</td>\n",
       "      <td>A</td>\n",
       "      <td>72</td>\n",
       "    </tr>\n",
       "  </tbody>\n",
       "</table>\n",
       "</div>"
      ],
      "text/plain": [
       "    Name  Previous_Part  Participation1  Mini_Exam1  Mini_Exam2  \\\n",
       "0   Jake           32.0             1.0        19.5        20.0   \n",
       "1    Joe            NaN             1.0        20.0        16.0   \n",
       "2    Sol           31.0             1.0        22.0        13.0   \n",
       "3  Chris           30.0             NaN        19.0         NaN   \n",
       "\n",
       "   Participation2  Mini_Exam3  Final Grade  Temp  \n",
       "0               1        10.0   33.0     A    -1  \n",
       "1               1        14.0   32.0     A    23  \n",
       "2               1        13.0   34.0     A    34  \n",
       "3               1        12.5   33.5     A    72  "
      ]
     },
     "execution_count": 309,
     "metadata": {},
     "output_type": "execute_result"
    }
   ],
   "source": [
    "import pandas as pd\n",
    "df_missing=pd.read_csv(\"C:\\Pandas\\Data\\Missing_Data.csv\",na_values={\"Mini_Exam2\":\"not available\",\"Participation1\":-1})\n",
    "df_missing"
   ]
  },
  {
   "cell_type": "markdown",
   "id": "255869c6-0c1a-4ee7-b156-e8de80756041",
   "metadata": {},
   "source": [
    "##### Checking null values"
   ]
  },
  {
   "cell_type": "code",
   "execution_count": 313,
   "id": "3f37a80d-b007-4d47-b533-5c5b45558b2f",
   "metadata": {},
   "outputs": [
    {
     "name": "stderr",
     "output_type": "stream",
     "text": [
      "<>:1: SyntaxWarning: invalid escape sequence '\\P'\n",
      "<>:1: SyntaxWarning: invalid escape sequence '\\P'\n",
      "C:\\Users\\Mariam\\AppData\\Local\\Temp\\ipykernel_4568\\1759280506.py:1: SyntaxWarning: invalid escape sequence '\\P'\n",
      "  df_missing=pd.read_csv(\"C:\\Pandas\\Data\\Missing_Data.csv\",na_values=[\"NaN\",\"not available\",-1])\n"
     ]
    },
    {
     "data": {
      "text/html": [
       "<div>\n",
       "<style scoped>\n",
       "    .dataframe tbody tr th:only-of-type {\n",
       "        vertical-align: middle;\n",
       "    }\n",
       "\n",
       "    .dataframe tbody tr th {\n",
       "        vertical-align: top;\n",
       "    }\n",
       "\n",
       "    .dataframe thead th {\n",
       "        text-align: right;\n",
       "    }\n",
       "</style>\n",
       "<table border=\"1\" class=\"dataframe\">\n",
       "  <thead>\n",
       "    <tr style=\"text-align: right;\">\n",
       "      <th></th>\n",
       "      <th>Name</th>\n",
       "      <th>Previous_Part</th>\n",
       "      <th>Participation1</th>\n",
       "      <th>Mini_Exam1</th>\n",
       "      <th>Mini_Exam2</th>\n",
       "      <th>Participation2</th>\n",
       "      <th>Mini_Exam3</th>\n",
       "      <th>Final</th>\n",
       "      <th>Grade</th>\n",
       "      <th>Temp</th>\n",
       "    </tr>\n",
       "  </thead>\n",
       "  <tbody>\n",
       "    <tr>\n",
       "      <th>0</th>\n",
       "      <td>False</td>\n",
       "      <td>False</td>\n",
       "      <td>False</td>\n",
       "      <td>False</td>\n",
       "      <td>False</td>\n",
       "      <td>False</td>\n",
       "      <td>False</td>\n",
       "      <td>False</td>\n",
       "      <td>False</td>\n",
       "      <td>True</td>\n",
       "    </tr>\n",
       "    <tr>\n",
       "      <th>1</th>\n",
       "      <td>False</td>\n",
       "      <td>True</td>\n",
       "      <td>False</td>\n",
       "      <td>False</td>\n",
       "      <td>False</td>\n",
       "      <td>False</td>\n",
       "      <td>False</td>\n",
       "      <td>False</td>\n",
       "      <td>False</td>\n",
       "      <td>False</td>\n",
       "    </tr>\n",
       "    <tr>\n",
       "      <th>2</th>\n",
       "      <td>False</td>\n",
       "      <td>False</td>\n",
       "      <td>False</td>\n",
       "      <td>False</td>\n",
       "      <td>False</td>\n",
       "      <td>False</td>\n",
       "      <td>False</td>\n",
       "      <td>False</td>\n",
       "      <td>False</td>\n",
       "      <td>False</td>\n",
       "    </tr>\n",
       "    <tr>\n",
       "      <th>3</th>\n",
       "      <td>False</td>\n",
       "      <td>False</td>\n",
       "      <td>True</td>\n",
       "      <td>False</td>\n",
       "      <td>True</td>\n",
       "      <td>False</td>\n",
       "      <td>False</td>\n",
       "      <td>False</td>\n",
       "      <td>False</td>\n",
       "      <td>False</td>\n",
       "    </tr>\n",
       "  </tbody>\n",
       "</table>\n",
       "</div>"
      ],
      "text/plain": [
       "    Name  Previous_Part  Participation1  Mini_Exam1  Mini_Exam2  \\\n",
       "0  False          False           False       False       False   \n",
       "1  False           True           False       False       False   \n",
       "2  False          False           False       False       False   \n",
       "3  False          False            True       False        True   \n",
       "\n",
       "   Participation2  Mini_Exam3  Final  Grade   Temp  \n",
       "0           False       False  False  False   True  \n",
       "1           False       False  False  False  False  \n",
       "2           False       False  False  False  False  \n",
       "3           False       False  False  False  False  "
      ]
     },
     "execution_count": 313,
     "metadata": {},
     "output_type": "execute_result"
    }
   ],
   "source": [
    "df_missing=pd.read_csv(\"C:\\Pandas\\Data\\Missing_Data.csv\",na_values=[\"NaN\",\"not available\",-1])\n",
    "df_missing.isnull()"
   ]
  },
  {
   "cell_type": "code",
   "execution_count": 294,
   "id": "7e07dc95-a126-4233-ab02-8e1f92ecbb6b",
   "metadata": {},
   "outputs": [
    {
     "data": {
      "text/plain": [
       "10"
      ]
     },
     "execution_count": 294,
     "metadata": {},
     "output_type": "execute_result"
    }
   ],
   "source": [
    "df_missing.isnull().sum().count()"
   ]
  },
  {
   "cell_type": "markdown",
   "id": "fbb16540-e785-4c75-8c84-81fbe9467112",
   "metadata": {},
   "source": [
    "##### Dropping columns & rows that holds missing values"
   ]
  },
  {
   "cell_type": "code",
   "execution_count": 301,
   "id": "edde6663-9346-4e70-920d-08ae26499d58",
   "metadata": {},
   "outputs": [
    {
     "data": {
      "text/html": [
       "<div>\n",
       "<style scoped>\n",
       "    .dataframe tbody tr th:only-of-type {\n",
       "        vertical-align: middle;\n",
       "    }\n",
       "\n",
       "    .dataframe tbody tr th {\n",
       "        vertical-align: top;\n",
       "    }\n",
       "\n",
       "    .dataframe thead th {\n",
       "        text-align: right;\n",
       "    }\n",
       "</style>\n",
       "<table border=\"1\" class=\"dataframe\">\n",
       "  <thead>\n",
       "    <tr style=\"text-align: right;\">\n",
       "      <th></th>\n",
       "      <th>Name</th>\n",
       "      <th>Previous_Part</th>\n",
       "      <th>Participation1</th>\n",
       "      <th>Mini_Exam1</th>\n",
       "      <th>Mini_Exam2</th>\n",
       "      <th>Participation2</th>\n",
       "      <th>Mini_Exam3</th>\n",
       "      <th>Final</th>\n",
       "      <th>Grade</th>\n",
       "      <th>Temp</th>\n",
       "    </tr>\n",
       "  </thead>\n",
       "  <tbody>\n",
       "    <tr>\n",
       "      <th>2</th>\n",
       "      <td>Sol</td>\n",
       "      <td>31.0</td>\n",
       "      <td>1.0</td>\n",
       "      <td>22.0</td>\n",
       "      <td>13.0</td>\n",
       "      <td>1</td>\n",
       "      <td>13.0</td>\n",
       "      <td>34.0</td>\n",
       "      <td>A</td>\n",
       "      <td>34.0</td>\n",
       "    </tr>\n",
       "  </tbody>\n",
       "</table>\n",
       "</div>"
      ],
      "text/plain": [
       "  Name  Previous_Part  Participation1  Mini_Exam1  Mini_Exam2  Participation2  \\\n",
       "2  Sol           31.0             1.0        22.0        13.0               1   \n",
       "\n",
       "   Mini_Exam3  Final Grade  Temp  \n",
       "2        13.0   34.0     A  34.0  "
      ]
     },
     "execution_count": 301,
     "metadata": {},
     "output_type": "execute_result"
    }
   ],
   "source": [
    "df_missing.dropna(axis=0,inplace=True) # Droping all the rows that include missing values\n",
    "df_missing"
   ]
  },
  {
   "cell_type": "code",
   "execution_count": 307,
   "id": "27e9e4cf-e521-4c39-aba3-afe215ba18ab",
   "metadata": {},
   "outputs": [
    {
     "data": {
      "text/html": [
       "<div>\n",
       "<style scoped>\n",
       "    .dataframe tbody tr th:only-of-type {\n",
       "        vertical-align: middle;\n",
       "    }\n",
       "\n",
       "    .dataframe tbody tr th {\n",
       "        vertical-align: top;\n",
       "    }\n",
       "\n",
       "    .dataframe thead th {\n",
       "        text-align: right;\n",
       "    }\n",
       "</style>\n",
       "<table border=\"1\" class=\"dataframe\">\n",
       "  <thead>\n",
       "    <tr style=\"text-align: right;\">\n",
       "      <th></th>\n",
       "      <th>Name</th>\n",
       "      <th>Mini_Exam1</th>\n",
       "      <th>Participation2</th>\n",
       "      <th>Mini_Exam3</th>\n",
       "      <th>Final</th>\n",
       "      <th>Grade</th>\n",
       "      <th>Temp</th>\n",
       "    </tr>\n",
       "  </thead>\n",
       "  <tbody>\n",
       "    <tr>\n",
       "      <th>0</th>\n",
       "      <td>Jake</td>\n",
       "      <td>19.5</td>\n",
       "      <td>1</td>\n",
       "      <td>10.0</td>\n",
       "      <td>33.0</td>\n",
       "      <td>A</td>\n",
       "      <td>-1</td>\n",
       "    </tr>\n",
       "    <tr>\n",
       "      <th>1</th>\n",
       "      <td>Joe</td>\n",
       "      <td>20.0</td>\n",
       "      <td>1</td>\n",
       "      <td>14.0</td>\n",
       "      <td>32.0</td>\n",
       "      <td>A</td>\n",
       "      <td>23</td>\n",
       "    </tr>\n",
       "    <tr>\n",
       "      <th>2</th>\n",
       "      <td>Sol</td>\n",
       "      <td>22.0</td>\n",
       "      <td>1</td>\n",
       "      <td>13.0</td>\n",
       "      <td>34.0</td>\n",
       "      <td>A</td>\n",
       "      <td>34</td>\n",
       "    </tr>\n",
       "    <tr>\n",
       "      <th>3</th>\n",
       "      <td>Chris</td>\n",
       "      <td>19.0</td>\n",
       "      <td>1</td>\n",
       "      <td>12.5</td>\n",
       "      <td>33.5</td>\n",
       "      <td>A</td>\n",
       "      <td>72</td>\n",
       "    </tr>\n",
       "  </tbody>\n",
       "</table>\n",
       "</div>"
      ],
      "text/plain": [
       "    Name  Mini_Exam1  Participation2  Mini_Exam3  Final Grade  Temp\n",
       "0   Jake        19.5               1        10.0   33.0     A    -1\n",
       "1    Joe        20.0               1        14.0   32.0     A    23\n",
       "2    Sol        22.0               1        13.0   34.0     A    34\n",
       "3  Chris        19.0               1        12.5   33.5     A    72"
      ]
     },
     "execution_count": 307,
     "metadata": {},
     "output_type": "execute_result"
    }
   ],
   "source": [
    "df_missing.dropna(axis=1,inplace=True) # Droping all the columns that include missing values\n",
    "df_missing"
   ]
  },
  {
   "cell_type": "markdown",
   "id": "c19b9653-93ae-4912-a920-3a1af45a1f3d",
   "metadata": {},
   "source": [
    "##### Filling with specific values & describtive statistics"
   ]
  },
  {
   "cell_type": "code",
   "execution_count": 317,
   "id": "df531de3-588e-4014-aa02-c61ac06313bc",
   "metadata": {},
   "outputs": [
    {
     "data": {
      "text/html": [
       "<div>\n",
       "<style scoped>\n",
       "    .dataframe tbody tr th:only-of-type {\n",
       "        vertical-align: middle;\n",
       "    }\n",
       "\n",
       "    .dataframe tbody tr th {\n",
       "        vertical-align: top;\n",
       "    }\n",
       "\n",
       "    .dataframe thead th {\n",
       "        text-align: right;\n",
       "    }\n",
       "</style>\n",
       "<table border=\"1\" class=\"dataframe\">\n",
       "  <thead>\n",
       "    <tr style=\"text-align: right;\">\n",
       "      <th></th>\n",
       "      <th>Name</th>\n",
       "      <th>Previous_Part</th>\n",
       "      <th>Participation1</th>\n",
       "      <th>Mini_Exam1</th>\n",
       "      <th>Mini_Exam2</th>\n",
       "      <th>Participation2</th>\n",
       "      <th>Mini_Exam3</th>\n",
       "      <th>Final</th>\n",
       "      <th>Grade</th>\n",
       "      <th>Temp</th>\n",
       "    </tr>\n",
       "  </thead>\n",
       "  <tbody>\n",
       "    <tr>\n",
       "      <th>0</th>\n",
       "      <td>Jake</td>\n",
       "      <td>32.0</td>\n",
       "      <td>1.0</td>\n",
       "      <td>19.5</td>\n",
       "      <td>20.0</td>\n",
       "      <td>1</td>\n",
       "      <td>10.0</td>\n",
       "      <td>33.0</td>\n",
       "      <td>A</td>\n",
       "      <td>0.0</td>\n",
       "    </tr>\n",
       "    <tr>\n",
       "      <th>1</th>\n",
       "      <td>Joe</td>\n",
       "      <td>0.0</td>\n",
       "      <td>1.0</td>\n",
       "      <td>20.0</td>\n",
       "      <td>16.0</td>\n",
       "      <td>1</td>\n",
       "      <td>14.0</td>\n",
       "      <td>32.0</td>\n",
       "      <td>A</td>\n",
       "      <td>23.0</td>\n",
       "    </tr>\n",
       "    <tr>\n",
       "      <th>2</th>\n",
       "      <td>Sol</td>\n",
       "      <td>31.0</td>\n",
       "      <td>1.0</td>\n",
       "      <td>22.0</td>\n",
       "      <td>13.0</td>\n",
       "      <td>1</td>\n",
       "      <td>13.0</td>\n",
       "      <td>34.0</td>\n",
       "      <td>A</td>\n",
       "      <td>34.0</td>\n",
       "    </tr>\n",
       "    <tr>\n",
       "      <th>3</th>\n",
       "      <td>Chris</td>\n",
       "      <td>30.0</td>\n",
       "      <td>0.0</td>\n",
       "      <td>19.0</td>\n",
       "      <td>0.0</td>\n",
       "      <td>1</td>\n",
       "      <td>12.5</td>\n",
       "      <td>33.5</td>\n",
       "      <td>A</td>\n",
       "      <td>72.0</td>\n",
       "    </tr>\n",
       "  </tbody>\n",
       "</table>\n",
       "</div>"
      ],
      "text/plain": [
       "    Name  Previous_Part  Participation1  Mini_Exam1  Mini_Exam2  \\\n",
       "0   Jake           32.0             1.0        19.5        20.0   \n",
       "1    Joe            0.0             1.0        20.0        16.0   \n",
       "2    Sol           31.0             1.0        22.0        13.0   \n",
       "3  Chris           30.0             0.0        19.0         0.0   \n",
       "\n",
       "   Participation2  Mini_Exam3  Final Grade  Temp  \n",
       "0               1        10.0   33.0     A   0.0  \n",
       "1               1        14.0   32.0     A  23.0  \n",
       "2               1        13.0   34.0     A  34.0  \n",
       "3               1        12.5   33.5     A  72.0  "
      ]
     },
     "execution_count": 317,
     "metadata": {},
     "output_type": "execute_result"
    }
   ],
   "source": [
    "df_missing.fillna(0,inplace=False) #by specified value"
   ]
  },
  {
   "cell_type": "code",
   "execution_count": 322,
   "id": "07d54bcf-62ee-4d4d-a8ee-c807b0f83382",
   "metadata": {},
   "outputs": [
    {
     "data": {
      "text/html": [
       "<div>\n",
       "<style scoped>\n",
       "    .dataframe tbody tr th:only-of-type {\n",
       "        vertical-align: middle;\n",
       "    }\n",
       "\n",
       "    .dataframe tbody tr th {\n",
       "        vertical-align: top;\n",
       "    }\n",
       "\n",
       "    .dataframe thead th {\n",
       "        text-align: right;\n",
       "    }\n",
       "</style>\n",
       "<table border=\"1\" class=\"dataframe\">\n",
       "  <thead>\n",
       "    <tr style=\"text-align: right;\">\n",
       "      <th></th>\n",
       "      <th>Name</th>\n",
       "      <th>Previous_Part</th>\n",
       "      <th>Participation1</th>\n",
       "      <th>Mini_Exam1</th>\n",
       "      <th>Mini_Exam2</th>\n",
       "      <th>Participation2</th>\n",
       "      <th>Mini_Exam3</th>\n",
       "      <th>Final</th>\n",
       "      <th>Grade</th>\n",
       "      <th>Temp</th>\n",
       "    </tr>\n",
       "  </thead>\n",
       "  <tbody>\n",
       "    <tr>\n",
       "      <th>0</th>\n",
       "      <td>Jake</td>\n",
       "      <td>32.0</td>\n",
       "      <td>1.0</td>\n",
       "      <td>19.5</td>\n",
       "      <td>20.0</td>\n",
       "      <td>1</td>\n",
       "      <td>10.0</td>\n",
       "      <td>33.0</td>\n",
       "      <td>A</td>\n",
       "      <td>43.0</td>\n",
       "    </tr>\n",
       "    <tr>\n",
       "      <th>1</th>\n",
       "      <td>Joe</td>\n",
       "      <td>NaN</td>\n",
       "      <td>1.0</td>\n",
       "      <td>20.0</td>\n",
       "      <td>16.0</td>\n",
       "      <td>1</td>\n",
       "      <td>14.0</td>\n",
       "      <td>32.0</td>\n",
       "      <td>A</td>\n",
       "      <td>23.0</td>\n",
       "    </tr>\n",
       "    <tr>\n",
       "      <th>2</th>\n",
       "      <td>Sol</td>\n",
       "      <td>31.0</td>\n",
       "      <td>1.0</td>\n",
       "      <td>22.0</td>\n",
       "      <td>13.0</td>\n",
       "      <td>1</td>\n",
       "      <td>13.0</td>\n",
       "      <td>34.0</td>\n",
       "      <td>A</td>\n",
       "      <td>34.0</td>\n",
       "    </tr>\n",
       "    <tr>\n",
       "      <th>3</th>\n",
       "      <td>Chris</td>\n",
       "      <td>30.0</td>\n",
       "      <td>NaN</td>\n",
       "      <td>19.0</td>\n",
       "      <td>NaN</td>\n",
       "      <td>1</td>\n",
       "      <td>12.5</td>\n",
       "      <td>33.5</td>\n",
       "      <td>A</td>\n",
       "      <td>72.0</td>\n",
       "    </tr>\n",
       "  </tbody>\n",
       "</table>\n",
       "</div>"
      ],
      "text/plain": [
       "    Name  Previous_Part  Participation1  Mini_Exam1  Mini_Exam2  \\\n",
       "0   Jake           32.0             1.0        19.5        20.0   \n",
       "1    Joe            NaN             1.0        20.0        16.0   \n",
       "2    Sol           31.0             1.0        22.0        13.0   \n",
       "3  Chris           30.0             NaN        19.0         NaN   \n",
       "\n",
       "   Participation2  Mini_Exam3  Final Grade  Temp  \n",
       "0               1        10.0   33.0     A  43.0  \n",
       "1               1        14.0   32.0     A  23.0  \n",
       "2               1        13.0   34.0     A  34.0  \n",
       "3               1        12.5   33.5     A  72.0  "
      ]
     },
     "execution_count": 322,
     "metadata": {},
     "output_type": "execute_result"
    }
   ],
   "source": [
    "tempmean=df_missing.Temp.mean()\n",
    "df_missing.fillna({'Temp':tempmean},inplace=False) # by one of describtive statistics (mean)"
   ]
  },
  {
   "cell_type": "markdown",
   "id": "f6a9dd73-3f49-42b2-8b56-a0e864767eb0",
   "metadata": {},
   "source": [
    "##### Apply"
   ]
  },
  {
   "cell_type": "code",
   "execution_count": 335,
   "id": "21c071d5-f5cb-4c14-a6d6-882cb32d85f3",
   "metadata": {},
   "outputs": [
    {
     "data": {
      "text/html": [
       "<div>\n",
       "<style scoped>\n",
       "    .dataframe tbody tr th:only-of-type {\n",
       "        vertical-align: middle;\n",
       "    }\n",
       "\n",
       "    .dataframe tbody tr th {\n",
       "        vertical-align: top;\n",
       "    }\n",
       "\n",
       "    .dataframe thead th {\n",
       "        text-align: right;\n",
       "    }\n",
       "</style>\n",
       "<table border=\"1\" class=\"dataframe\">\n",
       "  <thead>\n",
       "    <tr style=\"text-align: right;\">\n",
       "      <th></th>\n",
       "      <th>Name</th>\n",
       "      <th>Previous_Part</th>\n",
       "      <th>Participation1</th>\n",
       "      <th>Mini_Exam1</th>\n",
       "      <th>Mini_Exam2</th>\n",
       "      <th>Participation2</th>\n",
       "      <th>Mini_Exam3</th>\n",
       "      <th>Final</th>\n",
       "      <th>Grade</th>\n",
       "      <th>Temp</th>\n",
       "      <th>Bonus</th>\n",
       "    </tr>\n",
       "  </thead>\n",
       "  <tbody>\n",
       "    <tr>\n",
       "      <th>0</th>\n",
       "      <td>Jake</td>\n",
       "      <td>32.0</td>\n",
       "      <td>1.0</td>\n",
       "      <td>19.5</td>\n",
       "      <td>20.0</td>\n",
       "      <td>1</td>\n",
       "      <td>10.0</td>\n",
       "      <td>33.0</td>\n",
       "      <td>A</td>\n",
       "      <td>NaN</td>\n",
       "      <td>2</td>\n",
       "    </tr>\n",
       "    <tr>\n",
       "      <th>1</th>\n",
       "      <td>Joe</td>\n",
       "      <td>NaN</td>\n",
       "      <td>1.0</td>\n",
       "      <td>20.0</td>\n",
       "      <td>16.0</td>\n",
       "      <td>1</td>\n",
       "      <td>14.0</td>\n",
       "      <td>32.0</td>\n",
       "      <td>A</td>\n",
       "      <td>23.0</td>\n",
       "      <td>0</td>\n",
       "    </tr>\n",
       "    <tr>\n",
       "      <th>2</th>\n",
       "      <td>Sol</td>\n",
       "      <td>31.0</td>\n",
       "      <td>1.0</td>\n",
       "      <td>22.0</td>\n",
       "      <td>13.0</td>\n",
       "      <td>1</td>\n",
       "      <td>13.0</td>\n",
       "      <td>34.0</td>\n",
       "      <td>A</td>\n",
       "      <td>34.0</td>\n",
       "      <td>2</td>\n",
       "    </tr>\n",
       "    <tr>\n",
       "      <th>3</th>\n",
       "      <td>Chris</td>\n",
       "      <td>30.0</td>\n",
       "      <td>NaN</td>\n",
       "      <td>19.0</td>\n",
       "      <td>NaN</td>\n",
       "      <td>1</td>\n",
       "      <td>12.5</td>\n",
       "      <td>33.5</td>\n",
       "      <td>A</td>\n",
       "      <td>72.0</td>\n",
       "      <td>2</td>\n",
       "    </tr>\n",
       "  </tbody>\n",
       "</table>\n",
       "</div>"
      ],
      "text/plain": [
       "    Name  Previous_Part  Participation1  Mini_Exam1  Mini_Exam2  \\\n",
       "0   Jake           32.0             1.0        19.5        20.0   \n",
       "1    Joe            NaN             1.0        20.0        16.0   \n",
       "2    Sol           31.0             1.0        22.0        13.0   \n",
       "3  Chris           30.0             NaN        19.0         NaN   \n",
       "\n",
       "   Participation2  Mini_Exam3  Final Grade  Temp  Bonus  \n",
       "0               1        10.0   33.0     A   NaN      2  \n",
       "1               1        14.0   32.0     A  23.0      0  \n",
       "2               1        13.0   34.0     A  34.0      2  \n",
       "3               1        12.5   33.5     A  72.0      2  "
      ]
     },
     "execution_count": 335,
     "metadata": {},
     "output_type": "execute_result"
    }
   ],
   "source": [
    "def Bonus(marks):\n",
    "    if marks >32:\n",
    "        return 2\n",
    "    else:\n",
    "        return 0\n",
    "\n",
    "df_missing['Bonus']=df_missing.Final.apply(Bonus)\n",
    "df_missing\n",
    "\n"
   ]
  },
  {
   "cell_type": "code",
   "execution_count": null,
   "id": "f5ef8cbf-fa8e-4533-a010-4eb34784516a",
   "metadata": {},
   "outputs": [],
   "source": []
  }
 ],
 "metadata": {
  "kernelspec": {
   "display_name": "Python 3 (ipykernel)",
   "language": "python",
   "name": "python3"
  },
  "language_info": {
   "codemirror_mode": {
    "name": "ipython",
    "version": 3
   },
   "file_extension": ".py",
   "mimetype": "text/x-python",
   "name": "python",
   "nbconvert_exporter": "python",
   "pygments_lexer": "ipython3",
   "version": "3.12.7"
  },
  "panel-cell-order": [
   "db6179be-ada2-4759-bf26-c11100d44cc5",
   "4a757ff3-e3b1-4faa-b834-eb1cb6c2a914",
   "ba5327dc-9979-4c03-8cf1-480df7c261bd",
   "30b4cccd-c7fa-45c7-9465-44f1222ae52e",
   "2ffb1ec1-a622-43d2-ac4b-b7a37324e61c",
   "afaf867d-7621-4251-9302-974a268226d4",
   "03d67457-bb60-4f30-8dd2-998e00ab015e",
   "43210f3e-a913-458b-8f50-d5e267582a70",
   "6843c2d7-a0a2-4982-a064-9e26d09485ac",
   "6414c8fb-4354-4f8d-8e1c-c3e81f22c5a1"
  ]
 },
 "nbformat": 4,
 "nbformat_minor": 5
}
