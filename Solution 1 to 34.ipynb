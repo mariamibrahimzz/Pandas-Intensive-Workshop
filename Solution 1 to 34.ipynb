{
 "cells": [
  {
   "cell_type": "markdown",
   "id": "851b0e10-4411-4377-a04d-51a34e3f606a",
   "metadata": {},
   "source": [
    "# Creating Pandas Data Structures"
   ]
  },
  {
   "cell_type": "markdown",
   "id": "da3710b1-198a-44f9-929d-22428ee4fba4",
   "metadata": {},
   "source": [
    "### Creating Pandas Series"
   ]
  },
  {
   "cell_type": "code",
   "execution_count": 17,
   "id": "75338f61-86fa-4be8-b62b-bfa79509dba0",
   "metadata": {},
   "outputs": [
    {
     "name": "stdout",
     "output_type": "stream",
     "text": [
      "0    10\n",
      "1    20\n",
      "2    30\n",
      "3    40\n",
      "4    50\n",
      "dtype: int64\n"
     ]
    }
   ],
   "source": [
    "import pandas as pd\n",
    "series=pd.Series([10,20,30,40,50])\n",
    "print(series)"
   ]
  },
  {
   "cell_type": "code",
   "execution_count": 30,
   "id": "3441fe1d-9e34-4671-a27b-2ff6d831d131",
   "metadata": {},
   "outputs": [
    {
     "name": "stdout",
     "output_type": "stream",
     "text": [
      "Sara       10\n",
      "Mariam     20\n",
      "Ziad       30\n",
      "Mohamed    40\n",
      "Jana       50\n",
      "dtype: int64\n"
     ]
    }
   ],
   "source": [
    "#trying series with different data type (strings)\n",
    "series=pd.Series([10,20,30,40,50],[\"Sara\",\"Mariam\",\"Ziad\",\"Mohamed\",\"Jana\"])\n",
    "print(series)"
   ]
  },
  {
   "cell_type": "markdown",
   "id": "930b6c5c-91dc-40ef-8e41-8039818e45c0",
   "metadata": {},
   "source": [
    "### Creating Data Frame From a Dictionary"
   ]
  },
  {
   "cell_type": "code",
   "execution_count": 201,
   "id": "c8a50b8a-e86a-468a-8f61-2d0f1af53196",
   "metadata": {},
   "outputs": [
    {
     "name": "stdout",
     "output_type": "stream",
     "text": [
      "     Name  Age        Major  Birth Month Birth place\n",
      "0  Mariam   21  Engineering            9       Cairo\n",
      "1    Jana   19     Pharmacy            1  Alexandria\n",
      "2   Fatma   20    Dentistry           11      Assiut\n"
     ]
    }
   ],
   "source": [
    "data={'Name':['Mariam','Jana','Fatma'],\n",
    "      'Age':[21,19,20],\n",
    "      'Major':['Engineering','Pharmacy','Dentistry'],\n",
    "      'Birth Month':[9,1,11],\n",
    "      'Birth place':['Cairo','Alexandria','Assiut']\n",
    "     }\n",
    "df=pd.DataFrame(data)\n",
    "print(df)"
   ]
  },
  {
   "cell_type": "markdown",
   "id": "d775d02c-5f39-4087-b412-21ce5e3ff833",
   "metadata": {},
   "source": [
    "# Viewing and Inspecting Data"
   ]
  },
  {
   "cell_type": "markdown",
   "id": "347ab3f5-e84d-49cb-8487-cf9a5e9c0463",
   "metadata": {},
   "source": [
    "### Viewing the First Few Rows\n"
   ]
  },
  {
   "cell_type": "code",
   "execution_count": 203,
   "id": "edb37f9d-4835-4a43-b0b9-20e441d5e845",
   "metadata": {},
   "outputs": [
    {
     "data": {
      "text/html": [
       "<div>\n",
       "<style scoped>\n",
       "    .dataframe tbody tr th:only-of-type {\n",
       "        vertical-align: middle;\n",
       "    }\n",
       "\n",
       "    .dataframe tbody tr th {\n",
       "        vertical-align: top;\n",
       "    }\n",
       "\n",
       "    .dataframe thead th {\n",
       "        text-align: right;\n",
       "    }\n",
       "</style>\n",
       "<table border=\"1\" class=\"dataframe\">\n",
       "  <thead>\n",
       "    <tr style=\"text-align: right;\">\n",
       "      <th></th>\n",
       "      <th>Name</th>\n",
       "      <th>Age</th>\n",
       "      <th>Major</th>\n",
       "      <th>Birth Month</th>\n",
       "      <th>Birth place</th>\n",
       "    </tr>\n",
       "  </thead>\n",
       "  <tbody>\n",
       "    <tr>\n",
       "      <th>0</th>\n",
       "      <td>Mariam</td>\n",
       "      <td>21</td>\n",
       "      <td>Engineering</td>\n",
       "      <td>9</td>\n",
       "      <td>Cairo</td>\n",
       "    </tr>\n",
       "    <tr>\n",
       "      <th>1</th>\n",
       "      <td>Jana</td>\n",
       "      <td>19</td>\n",
       "      <td>Pharmacy</td>\n",
       "      <td>1</td>\n",
       "      <td>Alexandria</td>\n",
       "    </tr>\n",
       "  </tbody>\n",
       "</table>\n",
       "</div>"
      ],
      "text/plain": [
       "     Name  Age        Major  Birth Month Birth place\n",
       "0  Mariam   21  Engineering            9       Cairo\n",
       "1    Jana   19     Pharmacy            1  Alexandria"
      ]
     },
     "execution_count": 203,
     "metadata": {},
     "output_type": "execute_result"
    }
   ],
   "source": [
    "data={'Name':['Mariam','Jana','Fatma'],\n",
    "      'Age':[21,19,20],\n",
    "      'Major':['Engineering','Pharmacy','Dentistry'],\n",
    "      'Birth Month':[9,1,11],\n",
    "      'Birth place':['Cairo','Alexandria','Assiut']\n",
    "     }\n",
    "df=pd.DataFrame(data)\n",
    "df.head(2) # the number betwwen brackets indicate the number of rows that u want to display"
   ]
  },
  {
   "cell_type": "markdown",
   "id": "31a793e8-2db1-4f9e-95b1-197c07d76121",
   "metadata": {},
   "source": [
    "### Getting DataFrame Information"
   ]
  },
  {
   "cell_type": "code",
   "execution_count": 205,
   "id": "2c69364b-9b87-406e-9d47-0a5185492c21",
   "metadata": {},
   "outputs": [
    {
     "name": "stdout",
     "output_type": "stream",
     "text": [
      "<class 'pandas.core.frame.DataFrame'>\n",
      "RangeIndex: 3 entries, 0 to 2\n",
      "Data columns (total 5 columns):\n",
      " #   Column       Non-Null Count  Dtype \n",
      "---  ------       --------------  ----- \n",
      " 0   Name         3 non-null      object\n",
      " 1   Age          3 non-null      int64 \n",
      " 2   Major        3 non-null      object\n",
      " 3   Birth Month  3 non-null      int64 \n",
      " 4   Birth place  3 non-null      object\n",
      "dtypes: int64(2), object(3)\n",
      "memory usage: 252.0+ bytes\n"
     ]
    }
   ],
   "source": [
    "df.info() #Displaying the info about the whole data frame (null / non-null/ rows/ columns)"
   ]
  },
  {
   "cell_type": "markdown",
   "id": "ce8e6f60-b344-4cd1-bc74-493357b50269",
   "metadata": {},
   "source": [
    "### Describing Statistical Information"
   ]
  },
  {
   "cell_type": "code",
   "execution_count": 207,
   "id": "0b207d83-ec02-4a8d-bcb8-9370f391669c",
   "metadata": {},
   "outputs": [
    {
     "data": {
      "text/html": [
       "<div>\n",
       "<style scoped>\n",
       "    .dataframe tbody tr th:only-of-type {\n",
       "        vertical-align: middle;\n",
       "    }\n",
       "\n",
       "    .dataframe tbody tr th {\n",
       "        vertical-align: top;\n",
       "    }\n",
       "\n",
       "    .dataframe thead th {\n",
       "        text-align: right;\n",
       "    }\n",
       "</style>\n",
       "<table border=\"1\" class=\"dataframe\">\n",
       "  <thead>\n",
       "    <tr style=\"text-align: right;\">\n",
       "      <th></th>\n",
       "      <th>Age</th>\n",
       "      <th>Birth Month</th>\n",
       "    </tr>\n",
       "  </thead>\n",
       "  <tbody>\n",
       "    <tr>\n",
       "      <th>count</th>\n",
       "      <td>3.0</td>\n",
       "      <td>3.000000</td>\n",
       "    </tr>\n",
       "    <tr>\n",
       "      <th>mean</th>\n",
       "      <td>20.0</td>\n",
       "      <td>7.000000</td>\n",
       "    </tr>\n",
       "    <tr>\n",
       "      <th>std</th>\n",
       "      <td>1.0</td>\n",
       "      <td>5.291503</td>\n",
       "    </tr>\n",
       "    <tr>\n",
       "      <th>min</th>\n",
       "      <td>19.0</td>\n",
       "      <td>1.000000</td>\n",
       "    </tr>\n",
       "    <tr>\n",
       "      <th>25%</th>\n",
       "      <td>19.5</td>\n",
       "      <td>5.000000</td>\n",
       "    </tr>\n",
       "    <tr>\n",
       "      <th>50%</th>\n",
       "      <td>20.0</td>\n",
       "      <td>9.000000</td>\n",
       "    </tr>\n",
       "    <tr>\n",
       "      <th>75%</th>\n",
       "      <td>20.5</td>\n",
       "      <td>10.000000</td>\n",
       "    </tr>\n",
       "    <tr>\n",
       "      <th>max</th>\n",
       "      <td>21.0</td>\n",
       "      <td>11.000000</td>\n",
       "    </tr>\n",
       "  </tbody>\n",
       "</table>\n",
       "</div>"
      ],
      "text/plain": [
       "        Age  Birth Month\n",
       "count   3.0     3.000000\n",
       "mean   20.0     7.000000\n",
       "std     1.0     5.291503\n",
       "min    19.0     1.000000\n",
       "25%    19.5     5.000000\n",
       "50%    20.0     9.000000\n",
       "75%    20.5    10.000000\n",
       "max    21.0    11.000000"
      ]
     },
     "execution_count": 207,
     "metadata": {},
     "output_type": "execute_result"
    }
   ],
   "source": [
    "df.describe() #Displaying descriptive statistics to make sure that it doesn't include outliers or any logical errors"
   ]
  },
  {
   "cell_type": "markdown",
   "id": "474c18ca-4e15-4c82-8fee-9c7cdfa0813b",
   "metadata": {},
   "source": [
    "# Selecting and Filtering Data"
   ]
  },
  {
   "cell_type": "markdown",
   "id": "39552078-9aa1-448a-ba08-74fa5c5eaf09",
   "metadata": {},
   "source": [
    "### Selecting Columns"
   ]
  },
  {
   "cell_type": "code",
   "execution_count": 209,
   "id": "274856fe-5294-4e29-b84d-98f4463ad542",
   "metadata": {},
   "outputs": [
    {
     "name": "stdout",
     "output_type": "stream",
     "text": [
      "0    21\n",
      "1    19\n",
      "2    20\n",
      "Name: Age, dtype: int64\n"
     ]
    }
   ],
   "source": [
    "print(df['Age']) #you can select only one column as it returns series only"
   ]
  },
  {
   "cell_type": "markdown",
   "id": "5534eb06-a3ad-4770-9edd-0b4281fb5538",
   "metadata": {},
   "source": [
    "### Filtering Rows Based on Condition"
   ]
  },
  {
   "cell_type": "code",
   "execution_count": 211,
   "id": "428cf537-287c-4e1b-bfa1-059b5e660657",
   "metadata": {},
   "outputs": [
    {
     "name": "stdout",
     "output_type": "stream",
     "text": [
      "    Name  Age      Major  Birth Month Birth place\n",
      "2  Fatma   20  Dentistry           11      Assiut\n"
     ]
    }
   ],
   "source": [
    "filtered_dataframe=df[df['Birth Month']>10]\n",
    "print(filtered_dataframe)"
   ]
  },
  {
   "cell_type": "code",
   "execution_count": 213,
   "id": "682dc0b6-bedc-4205-8879-60ea56afe4cc",
   "metadata": {},
   "outputs": [
    {
     "name": "stdout",
     "output_type": "stream",
     "text": [
      "    Name  Age      Major  Birth Month Birth place\n",
      "1   Jana   19   Pharmacy            1  Alexandria\n",
      "2  Fatma   20  Dentistry           11      Assiut\n"
     ]
    }
   ],
   "source": [
    "filtered_dataframe=df[df['Major']!='Engineering']\n",
    "print(filtered_dataframe)"
   ]
  },
  {
   "cell_type": "markdown",
   "id": "d09f7eaa-fcda-4c07-a435-dcdea1faa1b2",
   "metadata": {},
   "source": [
    "### Selecting Specific Rows and Columns\n"
   ]
  },
  {
   "cell_type": "code",
   "execution_count": 215,
   "id": "53d22e09-e4c6-4a83-b199-f70068dc118b",
   "metadata": {},
   "outputs": [
    {
     "name": "stdout",
     "output_type": "stream",
     "text": [
      "       Major Birth place\n",
      "1   Pharmacy  Alexandria\n",
      "2  Dentistry      Assiut\n"
     ]
    }
   ],
   "source": [
    "selected_data=df.loc[1:2,['Major','Birth place']]\n",
    "print(selected_data)"
   ]
  },
  {
   "cell_type": "code",
   "execution_count": 217,
   "id": "ba311555-febb-4306-9d2b-d22994acb134",
   "metadata": {},
   "outputs": [
    {
     "name": "stdout",
     "output_type": "stream",
     "text": [
      "    Name  Age      Major  Birth Month Birth place\n",
      "1   Jana   19   Pharmacy            1  Alexandria\n",
      "2  Fatma   20  Dentistry           11      Assiut\n"
     ]
    }
   ],
   "source": [
    "selected_data=df.loc[1:2] #Displaying all the columns by default\n",
    "print(selected_data)"
   ]
  },
  {
   "cell_type": "code",
   "execution_count": 177,
   "id": "e671f7f6-46fb-4ca6-a2b6-c37141b6cbb8",
   "metadata": {},
   "outputs": [
    {
     "name": "stdout",
     "output_type": "stream",
     "text": [
      "    Name      Major Birth place\n",
      "1   Jana   Pharmacy  Alexandria\n",
      "2  Fatma  Dentistry      Assiut\n"
     ]
    }
   ],
   "source": [
    "selected_data=df.iloc[1:3,[0,2,4]] #Using indicies to locate rows and columns keeping columns always in seprated square brackets\n",
    "print(selected_data)"
   ]
  },
  {
   "cell_type": "markdown",
   "id": "b36451c0-8398-4129-9733-3d09df1cc6cf",
   "metadata": {},
   "source": [
    "# Modifying Data"
   ]
  },
  {
   "cell_type": "markdown",
   "id": "36909506-bf85-4036-865c-e8d3766b4ab3",
   "metadata": {},
   "source": [
    "### Adding a New Column"
   ]
  },
  {
   "cell_type": "code",
   "execution_count": 219,
   "id": "1916aceb-c6b1-4863-8687-9454d9474c03",
   "metadata": {},
   "outputs": [
    {
     "name": "stdout",
     "output_type": "stream",
     "text": [
      "     Name  Age        Major  Birth Month Birth place      Sports\n",
      "0  Mariam   21  Engineering            9       Cairo    Football\n",
      "1    Jana   19     Pharmacy            1  Alexandria  Basketball\n",
      "2   Fatma   20    Dentistry           11      Assiut    Swimming\n"
     ]
    }
   ],
   "source": [
    "df['Sports']=['Football','Basketball','Swimming']\n",
    "print(df)"
   ]
  },
  {
   "cell_type": "markdown",
   "id": "aaec59c7-7e33-426f-b00b-b9817fedb602",
   "metadata": {},
   "source": [
    "### Updating Column Values\n"
   ]
  },
  {
   "cell_type": "code",
   "execution_count": 221,
   "id": "9565e11a-c7f7-4796-90b8-fecb06c3dda5",
   "metadata": {},
   "outputs": [
    {
     "name": "stdout",
     "output_type": "stream",
     "text": [
      "==========In the next year===========\n",
      "     Name  Age        Major  Birth Month Birth place      Sports\n",
      "0  Mariam   22  Engineering            9       Cairo    Football\n",
      "1    Jana   20     Pharmacy            1  Alexandria  Basketball\n",
      "2   Fatma   21    Dentistry           11      Assiut    Swimming\n"
     ]
    }
   ],
   "source": [
    "df['Age']=df['Age']+1\n",
    "print(\"==========In the next year===========\")\n",
    "print(df)"
   ]
  },
  {
   "cell_type": "markdown",
   "id": "c47f1745-1cd3-42d1-9490-7cc502799fd1",
   "metadata": {},
   "source": [
    "### Dropping Columns"
   ]
  },
  {
   "cell_type": "code",
   "execution_count": 226,
   "id": "6e21c4fa-5c19-4e8c-93fc-35cba09a5254",
   "metadata": {},
   "outputs": [
    {
     "name": "stdout",
     "output_type": "stream",
     "text": [
      "    Name  Age      Major  Birth Month Birth place      Sports\n",
      "1   Jana   20   Pharmacy            1  Alexandria  Basketball\n",
      "2  Fatma   21  Dentistry           11      Assiut    Swimming\n"
     ]
    }
   ],
   "source": [
    "df=df.drop(0, axis=0) #dropping a row\n",
    "print(df)"
   ]
  },
  {
   "cell_type": "code",
   "execution_count": 228,
   "id": "d5ec0879-94ba-4521-98c6-56e7bd9dc594",
   "metadata": {},
   "outputs": [
    {
     "name": "stdout",
     "output_type": "stream",
     "text": [
      "    Name      Major  Birth Month Birth place      Sports\n",
      "1   Jana   Pharmacy            1  Alexandria  Basketball\n",
      "2  Fatma  Dentistry           11      Assiut    Swimming\n"
     ]
    }
   ],
   "source": [
    "df=df.drop('Age', axis=1) #dropping a column\n",
    "print(df)"
   ]
  },
  {
   "cell_type": "markdown",
   "id": "0edce871-88c2-436b-9405-20981d4af033",
   "metadata": {},
   "source": [
    "# Handling Missing Data"
   ]
  },
  {
   "cell_type": "markdown",
   "id": "3ad4bbfd-412f-4de2-b4df-d9ae0c073419",
   "metadata": {},
   "source": [
    "### Detecting Missing Values"
   ]
  },
  {
   "cell_type": "code",
   "execution_count": 252,
   "id": "b8879518-20bb-482b-b8a5-387be0c385d0",
   "metadata": {},
   "outputs": [
    {
     "name": "stdout",
     "output_type": "stream",
     "text": [
      "   Mariam Goals  Fatma Goals  Sara Goals\n",
      "0         False        False        True\n",
      "1         False         True        True\n",
      "2          True        False       False\n"
     ]
    }
   ],
   "source": [
    "dtf=pd.DataFrame({'Mariam Goals':[20,16,None],'Fatma Goals':[18,None,21],'Sara Goals':[None,None,22]})\n",
    "print(dtf.isnull()) #Displaying Boolean values\n"
   ]
  },
  {
   "cell_type": "code",
   "execution_count": 254,
   "id": "6ce5551d-bc01-40f0-bb1f-59ff4092000d",
   "metadata": {},
   "outputs": [
    {
     "name": "stdout",
     "output_type": "stream",
     "text": [
      "   Mariam Goals  Fatma Goals  Sara Goals\n",
      "0          20.0         18.0         NaN\n",
      "1          16.0          NaN         NaN\n",
      "2           NaN         21.0        22.0\n"
     ]
    }
   ],
   "source": [
    "print(dtf) #Displaying real values"
   ]
  },
  {
   "cell_type": "code",
   "execution_count": 256,
   "id": "1737c7d6-e89c-4d3d-b40a-068ab3b6bdab",
   "metadata": {},
   "outputs": [
    {
     "data": {
      "text/html": [
       "<div>\n",
       "<style scoped>\n",
       "    .dataframe tbody tr th:only-of-type {\n",
       "        vertical-align: middle;\n",
       "    }\n",
       "\n",
       "    .dataframe tbody tr th {\n",
       "        vertical-align: top;\n",
       "    }\n",
       "\n",
       "    .dataframe thead th {\n",
       "        text-align: right;\n",
       "    }\n",
       "</style>\n",
       "<table border=\"1\" class=\"dataframe\">\n",
       "  <thead>\n",
       "    <tr style=\"text-align: right;\">\n",
       "      <th></th>\n",
       "      <th>Mariam Goals</th>\n",
       "      <th>Fatma Goals</th>\n",
       "      <th>Sara Goals</th>\n",
       "    </tr>\n",
       "  </thead>\n",
       "  <tbody>\n",
       "    <tr>\n",
       "      <th>0</th>\n",
       "      <td>False</td>\n",
       "      <td>False</td>\n",
       "      <td>True</td>\n",
       "    </tr>\n",
       "    <tr>\n",
       "      <th>1</th>\n",
       "      <td>False</td>\n",
       "      <td>True</td>\n",
       "      <td>True</td>\n",
       "    </tr>\n",
       "    <tr>\n",
       "      <th>2</th>\n",
       "      <td>True</td>\n",
       "      <td>False</td>\n",
       "      <td>False</td>\n",
       "    </tr>\n",
       "  </tbody>\n",
       "</table>\n",
       "</div>"
      ],
      "text/plain": [
       "   Mariam Goals  Fatma Goals  Sara Goals\n",
       "0         False        False        True\n",
       "1         False         True        True\n",
       "2          True        False       False"
      ]
     },
     "execution_count": 256,
     "metadata": {},
     "output_type": "execute_result"
    }
   ],
   "source": [
    "dtf.isna() #As same as isnull() they can be used interchangabely"
   ]
  },
  {
   "cell_type": "code",
   "execution_count": 258,
   "id": "dd43655e-5848-48d7-87f8-2f86f7af6188",
   "metadata": {},
   "outputs": [
    {
     "data": {
      "text/plain": [
       "3"
      ]
     },
     "execution_count": 258,
     "metadata": {},
     "output_type": "execute_result"
    }
   ],
   "source": [
    "dtf.isnull().sum().count() #sum to sum up all null values per column and count the number of columns that contain null"
   ]
  },
  {
   "cell_type": "code",
   "execution_count": 262,
   "id": "96e12819-f373-4492-8c3c-0519af659fca",
   "metadata": {},
   "outputs": [
    {
     "data": {
      "text/plain": [
       "4"
      ]
     },
     "execution_count": 262,
     "metadata": {},
     "output_type": "execute_result"
    }
   ],
   "source": [
    "dtf.isnull().sum().sum() #sum to sum up all null values per column and another sum to sum up all the nulls in the data frame"
   ]
  },
  {
   "cell_type": "markdown",
   "id": "88913809-fbd6-41db-9088-1aad7515c017",
   "metadata": {},
   "source": [
    "### Filling Missing Values"
   ]
  },
  {
   "cell_type": "code",
   "execution_count": 267,
   "id": "2b79d2fd-5808-4eb2-8cb8-ea4fd54ae9f0",
   "metadata": {},
   "outputs": [
    {
     "name": "stdout",
     "output_type": "stream",
     "text": [
      "   Mariam Goals  Fatma Goals  Sara Goals\n",
      "0          20.0         18.0        10.0\n",
      "1          16.0         10.0        10.0\n",
      "2          10.0         21.0        22.0\n"
     ]
    }
   ],
   "source": [
    "filling_dtf=dtf.fillna(10) #The value between brackets that fill out the nones\n",
    "print(filling_dtf)"
   ]
  },
  {
   "cell_type": "code",
   "execution_count": 269,
   "id": "9d6cf6aa-4058-4b4d-bda9-aa2def3c014e",
   "metadata": {},
   "outputs": [
    {
     "name": "stdout",
     "output_type": "stream",
     "text": [
      "0    18.0\n",
      "1    19.5\n",
      "2    21.0\n",
      "Name: Fatma Goals, dtype: float64\n"
     ]
    }
   ],
   "source": [
    "dtf['Fatma Goals']=dtf['Fatma Goals'].fillna(dtf['Fatma Goals'].mean())\n",
    "print(dtf['Fatma Goals'])"
   ]
  },
  {
   "cell_type": "markdown",
   "id": "03c6ac76-5f79-469c-bfb2-0500d8d8388d",
   "metadata": {},
   "source": [
    "### Dropping Rows with Missing Values"
   ]
  },
  {
   "cell_type": "code",
   "execution_count": 272,
   "id": "56b46dd9-3a9e-4de9-b65c-44bc55d9a9fa",
   "metadata": {},
   "outputs": [
    {
     "data": {
      "text/html": [
       "<div>\n",
       "<style scoped>\n",
       "    .dataframe tbody tr th:only-of-type {\n",
       "        vertical-align: middle;\n",
       "    }\n",
       "\n",
       "    .dataframe tbody tr th {\n",
       "        vertical-align: top;\n",
       "    }\n",
       "\n",
       "    .dataframe thead th {\n",
       "        text-align: right;\n",
       "    }\n",
       "</style>\n",
       "<table border=\"1\" class=\"dataframe\">\n",
       "  <thead>\n",
       "    <tr style=\"text-align: right;\">\n",
       "      <th></th>\n",
       "      <th>Mariam Goals</th>\n",
       "      <th>Fatma Goals</th>\n",
       "      <th>Sara Goals</th>\n",
       "    </tr>\n",
       "  </thead>\n",
       "  <tbody>\n",
       "  </tbody>\n",
       "</table>\n",
       "</div>"
      ],
      "text/plain": [
       "Empty DataFrame\n",
       "Columns: [Mariam Goals, Fatma Goals, Sara Goals]\n",
       "Index: []"
      ]
     },
     "execution_count": 272,
     "metadata": {},
     "output_type": "execute_result"
    }
   ],
   "source": [
    "dtf.dropna() # by default it drops rows"
   ]
  },
  {
   "cell_type": "code",
   "execution_count": 274,
   "id": "066aaa71-9952-4e9b-abbd-9f89792fd51e",
   "metadata": {},
   "outputs": [
    {
     "data": {
      "text/html": [
       "<div>\n",
       "<style scoped>\n",
       "    .dataframe tbody tr th:only-of-type {\n",
       "        vertical-align: middle;\n",
       "    }\n",
       "\n",
       "    .dataframe tbody tr th {\n",
       "        vertical-align: top;\n",
       "    }\n",
       "\n",
       "    .dataframe thead th {\n",
       "        text-align: right;\n",
       "    }\n",
       "</style>\n",
       "<table border=\"1\" class=\"dataframe\">\n",
       "  <thead>\n",
       "    <tr style=\"text-align: right;\">\n",
       "      <th></th>\n",
       "      <th>Fatma Goals</th>\n",
       "    </tr>\n",
       "  </thead>\n",
       "  <tbody>\n",
       "    <tr>\n",
       "      <th>0</th>\n",
       "      <td>18.0</td>\n",
       "    </tr>\n",
       "    <tr>\n",
       "      <th>1</th>\n",
       "      <td>19.5</td>\n",
       "    </tr>\n",
       "    <tr>\n",
       "      <th>2</th>\n",
       "      <td>21.0</td>\n",
       "    </tr>\n",
       "  </tbody>\n",
       "</table>\n",
       "</div>"
      ],
      "text/plain": [
       "   Fatma Goals\n",
       "0         18.0\n",
       "1         19.5\n",
       "2         21.0"
      ]
     },
     "execution_count": 274,
     "metadata": {},
     "output_type": "execute_result"
    }
   ],
   "source": [
    "dtf.dropna(axis=1) # droping columns that include any null value"
   ]
  },
  {
   "cell_type": "markdown",
   "id": "7548bcea-3855-4cd9-bb90-36f3114dd0ee",
   "metadata": {},
   "source": [
    "# Grouping and Aggregation"
   ]
  },
  {
   "cell_type": "markdown",
   "id": "76b4564d-d904-44d6-9127-1727cda8265e",
   "metadata": {},
   "source": [
    "### Applying Custom Functions with apply()"
   ]
  },
  {
   "cell_type": "code",
   "execution_count": 334,
   "id": "e9ee6428-71c3-49b1-b5d3-2bf2e79f8954",
   "metadata": {},
   "outputs": [
    {
     "name": "stdout",
     "output_type": "stream",
     "text": [
      "     Name  Salary    Department  Salary after bonus\n",
      "0  Mariam    8000            IT                9000\n",
      "1     Ali   10000            HR               10000\n",
      "2    Ziad    9000  Social Media                9000\n"
     ]
    }
   ],
   "source": [
    "def Bonus(x):\n",
    "    return x + 1000\n",
    "\n",
    "employees_Data = pd.DataFrame({\n",
    "    'Name': ['Mariam', 'Ali', 'Ziad'],\n",
    "    'Salary': [8000, 10000, 9000],\n",
    "    'Department': ['IT', 'HR', 'Social Media']\n",
    "})\n",
    "\n",
    "# Apply the bonus conditionally to the Salary column\n",
    "employees_Data['Salary after bonus'] = employees_Data['Salary'].apply(lambda x: Bonus(x) if x < 9000 else x)\n",
    "\n",
    "print(employees_Data)"
   ]
  },
  {
   "cell_type": "markdown",
   "id": "427a35f8-61b1-4f1e-9d9e-894ca76e33f4",
   "metadata": {},
   "source": [
    "### Group by function"
   ]
  },
  {
   "cell_type": "code",
   "execution_count": 340,
   "id": "e5a49e8a-5ae4-483e-aefe-3615aadd16a7",
   "metadata": {},
   "outputs": [
    {
     "name": "stdout",
     "output_type": "stream",
     "text": [
      "                     Name  Salary\n",
      "Department                       \n",
      "IT            MariamMayar   35000\n",
      "Social Media        Fatma   10000\n"
     ]
    }
   ],
   "source": [
    "company_data=pd.DataFrame({'Name':['Mariam','Mayar','Fatma'],\n",
    "              'Department':['IT','IT','Social Media'],\n",
    "                          'Salary':[20000,15000,10000]})\n",
    "print(company_data.groupby('Department').sum())\n"
   ]
  },
  {
   "cell_type": "code",
   "execution_count": null,
   "id": "b179d460-84a8-4566-a969-4b78e05c05a6",
   "metadata": {},
   "outputs": [],
   "source": []
  }
 ],
 "metadata": {
  "kernelspec": {
   "display_name": "Python 3 (ipykernel)",
   "language": "python",
   "name": "python3"
  },
  "language_info": {
   "codemirror_mode": {
    "name": "ipython",
    "version": 3
   },
   "file_extension": ".py",
   "mimetype": "text/x-python",
   "name": "python",
   "nbconvert_exporter": "python",
   "pygments_lexer": "ipython3",
   "version": "3.12.7"
  }
 },
 "nbformat": 4,
 "nbformat_minor": 5
}
